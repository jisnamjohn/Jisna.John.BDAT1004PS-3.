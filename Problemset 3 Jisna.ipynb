{
 "cells": [
  {
   "cell_type": "markdown",
   "id": "150487f9",
   "metadata": {},
   "source": [
    "# Question 1"
   ]
  },
  {
   "cell_type": "markdown",
   "id": "0ea6fb64",
   "metadata": {},
   "source": [
    "Occupations"
   ]
  },
  {
   "cell_type": "markdown",
   "id": "7f462f3a",
   "metadata": {},
   "source": [
    "Step 1. Import the necessary libraries"
   ]
  },
  {
   "cell_type": "code",
   "execution_count": 3,
   "id": "d4a4b95b",
   "metadata": {},
   "outputs": [],
   "source": [
    "import numpy as np\n",
    "import pandas as pd"
   ]
  },
  {
   "cell_type": "markdown",
   "id": "c1028b0e",
   "metadata": {},
   "source": [
    "Step 2. Import the dataset from this address.\n",
    "\n",
    "Step 3. Assign it to a variable called users"
   ]
  },
  {
   "cell_type": "code",
   "execution_count": 10,
   "id": "0236ea45",
   "metadata": {},
   "outputs": [
    {
     "data": {
      "text/html": [
       "<div>\n",
       "<style scoped>\n",
       "    .dataframe tbody tr th:only-of-type {\n",
       "        vertical-align: middle;\n",
       "    }\n",
       "\n",
       "    .dataframe tbody tr th {\n",
       "        vertical-align: top;\n",
       "    }\n",
       "\n",
       "    .dataframe thead th {\n",
       "        text-align: right;\n",
       "    }\n",
       "</style>\n",
       "<table border=\"1\" class=\"dataframe\">\n",
       "  <thead>\n",
       "    <tr style=\"text-align: right;\">\n",
       "      <th></th>\n",
       "      <th>user_id</th>\n",
       "      <th>age</th>\n",
       "      <th>gender</th>\n",
       "      <th>occupation</th>\n",
       "      <th>zip_code</th>\n",
       "    </tr>\n",
       "  </thead>\n",
       "  <tbody>\n",
       "    <tr>\n",
       "      <th>0</th>\n",
       "      <td>1</td>\n",
       "      <td>24</td>\n",
       "      <td>M</td>\n",
       "      <td>technician</td>\n",
       "      <td>85711</td>\n",
       "    </tr>\n",
       "    <tr>\n",
       "      <th>1</th>\n",
       "      <td>2</td>\n",
       "      <td>53</td>\n",
       "      <td>F</td>\n",
       "      <td>other</td>\n",
       "      <td>94043</td>\n",
       "    </tr>\n",
       "    <tr>\n",
       "      <th>2</th>\n",
       "      <td>3</td>\n",
       "      <td>23</td>\n",
       "      <td>M</td>\n",
       "      <td>writer</td>\n",
       "      <td>32067</td>\n",
       "    </tr>\n",
       "    <tr>\n",
       "      <th>3</th>\n",
       "      <td>4</td>\n",
       "      <td>24</td>\n",
       "      <td>M</td>\n",
       "      <td>technician</td>\n",
       "      <td>43537</td>\n",
       "    </tr>\n",
       "    <tr>\n",
       "      <th>4</th>\n",
       "      <td>5</td>\n",
       "      <td>33</td>\n",
       "      <td>F</td>\n",
       "      <td>other</td>\n",
       "      <td>15213</td>\n",
       "    </tr>\n",
       "  </tbody>\n",
       "</table>\n",
       "</div>"
      ],
      "text/plain": [
       "   user_id  age gender  occupation zip_code\n",
       "0        1   24      M  technician    85711\n",
       "1        2   53      F       other    94043\n",
       "2        3   23      M      writer    32067\n",
       "3        4   24      M  technician    43537\n",
       "4        5   33      F       other    15213"
      ]
     },
     "execution_count": 10,
     "metadata": {},
     "output_type": "execute_result"
    }
   ],
   "source": [
    "users = pd.read_csv(\"User.csv\")\n",
    "users = users.iloc[:, :5] # Remove unnecessary columns (Unnamed columns)\n",
    "users.head()"
   ]
  },
  {
   "cell_type": "markdown",
   "id": "4ad9ddac",
   "metadata": {},
   "source": [
    "Step 4. Discover what is the mean age per occupation"
   ]
  },
  {
   "cell_type": "code",
   "execution_count": 12,
   "id": "17ecdade",
   "metadata": {},
   "outputs": [
    {
     "name": "stdout",
     "output_type": "stream",
     "text": [
      "Mean Age per Occupation:\n",
      " occupation\n",
      "administrator    38.746835\n",
      "artist           31.392857\n",
      "doctor           43.571429\n",
      "educator         42.010526\n",
      "engineer         36.388060\n",
      "entertainment    29.222222\n",
      "executive        38.718750\n",
      "healthcare       41.562500\n",
      "homemaker        32.571429\n",
      "lawyer           36.750000\n",
      "librarian        40.000000\n",
      "marketing        37.615385\n",
      "none             26.555556\n",
      "other            34.523810\n",
      "programmer       33.121212\n",
      "retired          63.071429\n",
      "salesman         35.666667\n",
      "scientist        35.548387\n",
      "student          22.081633\n",
      "technician       33.148148\n",
      "writer           36.311111\n",
      "Name: age, dtype: float64\n"
     ]
    }
   ],
   "source": [
    "mean_age_per_occupation = users.groupby('occupation')['age'].mean()\n",
    "print(\"Mean Age per Occupation:\\n\", mean_age_per_occupation)"
   ]
  },
  {
   "cell_type": "markdown",
   "id": "169d0278",
   "metadata": {},
   "source": [
    "Step 5. Discover the Male ratio per occupation and sort it from the most to the least"
   ]
  },
  {
   "cell_type": "code",
   "execution_count": 14,
   "id": "985a0ea3",
   "metadata": {},
   "outputs": [
    {
     "name": "stdout",
     "output_type": "stream",
     "text": [
      "Male Ratio per Occupation (Descending Order):\n",
      " occupation\n",
      "doctor           100.000000\n",
      "engineer          97.014925\n",
      "technician        96.296296\n",
      "retired           92.857143\n",
      "programmer        90.909091\n",
      "executive         90.625000\n",
      "scientist         90.322581\n",
      "entertainment     88.888889\n",
      "lawyer            83.333333\n",
      "salesman          75.000000\n",
      "educator          72.631579\n",
      "student           69.387755\n",
      "other             65.714286\n",
      "marketing         61.538462\n",
      "writer            57.777778\n",
      "none              55.555556\n",
      "administrator     54.430380\n",
      "artist            53.571429\n",
      "librarian         43.137255\n",
      "healthcare        31.250000\n",
      "homemaker         14.285714\n",
      "dtype: float64\n"
     ]
    }
   ],
   "source": [
    "# Calculate male ratio per occupation and sort in descending order\n",
    "male_ratio_per_occupation = (users[users['gender'] == 'M'].groupby('occupation').size() / users.groupby('occupation').size()) * 100\n",
    "sorted_male_ratio = male_ratio_per_occupation.sort_values(ascending=False)\n",
    "\n",
    "# Print the sorted male ratio per occupation\n",
    "print(\"Male Ratio per Occupation (Descending Order):\\n\", sorted_male_ratio)"
   ]
  },
  {
   "cell_type": "markdown",
   "id": "3ac0635f",
   "metadata": {},
   "source": [
    "Step 6. For each occupation, calculate the minimum and maximum ages"
   ]
  },
  {
   "cell_type": "code",
   "execution_count": 15,
   "id": "9fbdbd72",
   "metadata": {},
   "outputs": [
    {
     "name": "stdout",
     "output_type": "stream",
     "text": [
      "\n",
      "Age Range per Occupation:\n",
      "                min  max\n",
      "occupation             \n",
      "administrator   21   70\n",
      "artist          19   48\n",
      "doctor          28   64\n",
      "educator        23   63\n",
      "engineer        22   70\n",
      "entertainment   15   50\n",
      "executive       22   69\n",
      "healthcare      22   62\n",
      "homemaker       20   50\n",
      "lawyer          21   53\n",
      "librarian       23   69\n",
      "marketing       24   55\n",
      "none            11   55\n",
      "other           13   64\n",
      "programmer      20   63\n",
      "retired         51   73\n",
      "salesman        18   66\n",
      "scientist       23   55\n",
      "student          7   42\n",
      "technician      21   55\n",
      "writer          18   60\n"
     ]
    }
   ],
   "source": [
    "age_range_per_occupation = users.groupby('occupation')['age'].agg(['min', 'max'])\n",
    "print(\"\\nAge Range per Occupation:\\n\", age_range_per_occupation)"
   ]
  },
  {
   "cell_type": "markdown",
   "id": "fe387d96",
   "metadata": {},
   "source": [
    "Step 7. For each combination of occupation and sex, calculate the mean age"
   ]
  },
  {
   "cell_type": "code",
   "execution_count": 16,
   "id": "6648912c",
   "metadata": {},
   "outputs": [
    {
     "name": "stdout",
     "output_type": "stream",
     "text": [
      "\n",
      "Mean Age per Combination of Occupation and Sex:\n",
      " occupation     gender\n",
      "administrator  F         40.638889\n",
      "               M         37.162791\n",
      "artist         F         30.307692\n",
      "               M         32.333333\n",
      "doctor         M         43.571429\n",
      "educator       F         39.115385\n",
      "               M         43.101449\n",
      "engineer       F         29.500000\n",
      "               M         36.600000\n",
      "entertainment  F         31.000000\n",
      "               M         29.000000\n",
      "executive      F         44.000000\n",
      "               M         38.172414\n",
      "healthcare     F         39.818182\n",
      "               M         45.400000\n",
      "homemaker      F         34.166667\n",
      "               M         23.000000\n",
      "lawyer         F         39.500000\n",
      "               M         36.200000\n",
      "librarian      F         40.000000\n",
      "               M         40.000000\n",
      "marketing      F         37.200000\n",
      "               M         37.875000\n",
      "none           F         36.500000\n",
      "               M         18.600000\n",
      "other          F         35.472222\n",
      "               M         34.028986\n",
      "programmer     F         32.166667\n",
      "               M         33.216667\n",
      "retired        F         70.000000\n",
      "               M         62.538462\n",
      "salesman       F         27.000000\n",
      "               M         38.555556\n",
      "scientist      F         28.333333\n",
      "               M         36.321429\n",
      "student        F         20.750000\n",
      "               M         22.669118\n",
      "technician     F         38.000000\n",
      "               M         32.961538\n",
      "writer         F         37.631579\n",
      "               M         35.346154\n",
      "Name: age, dtype: float64\n"
     ]
    }
   ],
   "source": [
    "mean_age_per_combination = users.groupby(['occupation', 'gender'])['age'].mean()\n",
    "print(\"\\nMean Age per Combination of Occupation and Sex:\\n\", mean_age_per_combination)"
   ]
  },
  {
   "cell_type": "markdown",
   "id": "19b51200",
   "metadata": {},
   "source": [
    "Step 8. For each occupation present the percentage of women and men"
   ]
  },
  {
   "cell_type": "code",
   "execution_count": 17,
   "id": "b4620ec3",
   "metadata": {},
   "outputs": [
    {
     "name": "stdout",
     "output_type": "stream",
     "text": [
      "\n",
      "Gender Percentage per Occupation:\n",
      " occupation     gender\n",
      "administrator  F          45.569620\n",
      "               M          54.430380\n",
      "artist         F          46.428571\n",
      "               M          53.571429\n",
      "doctor         M         100.000000\n",
      "educator       F          27.368421\n",
      "               M          72.631579\n",
      "engineer       F           2.985075\n",
      "               M          97.014925\n",
      "entertainment  F          11.111111\n",
      "               M          88.888889\n",
      "executive      F           9.375000\n",
      "               M          90.625000\n",
      "healthcare     F          68.750000\n",
      "               M          31.250000\n",
      "homemaker      F          85.714286\n",
      "               M          14.285714\n",
      "lawyer         F          16.666667\n",
      "               M          83.333333\n",
      "librarian      F          56.862745\n",
      "               M          43.137255\n",
      "marketing      F          38.461538\n",
      "               M          61.538462\n",
      "none           F          44.444444\n",
      "               M          55.555556\n",
      "other          F          34.285714\n",
      "               M          65.714286\n",
      "programmer     F           9.090909\n",
      "               M          90.909091\n",
      "retired        F           7.142857\n",
      "               M          92.857143\n",
      "salesman       F          25.000000\n",
      "               M          75.000000\n",
      "scientist      F           9.677419\n",
      "               M          90.322581\n",
      "student        F          30.612245\n",
      "               M          69.387755\n",
      "technician     F           3.703704\n",
      "               M          96.296296\n",
      "writer         F          42.222222\n",
      "               M          57.777778\n",
      "Name: gender, dtype: float64\n"
     ]
    }
   ],
   "source": [
    "gender_percentage_per_occupation = (users.groupby(['occupation', 'gender'])['gender'].count() / users.groupby('occupation')['gender'].count() * 100)\n",
    "print(\"\\nGender Percentage per Occupation:\\n\", gender_percentage_per_occupation)"
   ]
  },
  {
   "cell_type": "markdown",
   "id": "4f3c3c39",
   "metadata": {},
   "source": [
    "# Question 2"
   ]
  },
  {
   "cell_type": "markdown",
   "id": "e84ed4f3",
   "metadata": {},
   "source": [
    "Euro Teams"
   ]
  },
  {
   "cell_type": "markdown",
   "id": "2d53cb30",
   "metadata": {},
   "source": [
    "Step 1. Import the necessary libraries"
   ]
  },
  {
   "cell_type": "code",
   "execution_count": 18,
   "id": "e0e61415",
   "metadata": {},
   "outputs": [],
   "source": [
    "import numpy as np\n",
    "import pandas as pd"
   ]
  },
  {
   "cell_type": "markdown",
   "id": "ce586744",
   "metadata": {},
   "source": [
    "Step 2. Import the dataset from this address\n",
    "\n",
    "Step 3. Assign it to a variable called euro12"
   ]
  },
  {
   "cell_type": "code",
   "execution_count": 19,
   "id": "f67ed5a6",
   "metadata": {},
   "outputs": [
    {
     "data": {
      "text/html": [
       "<div>\n",
       "<style scoped>\n",
       "    .dataframe tbody tr th:only-of-type {\n",
       "        vertical-align: middle;\n",
       "    }\n",
       "\n",
       "    .dataframe tbody tr th {\n",
       "        vertical-align: top;\n",
       "    }\n",
       "\n",
       "    .dataframe thead th {\n",
       "        text-align: right;\n",
       "    }\n",
       "</style>\n",
       "<table border=\"1\" class=\"dataframe\">\n",
       "  <thead>\n",
       "    <tr style=\"text-align: right;\">\n",
       "      <th></th>\n",
       "      <th>Team</th>\n",
       "      <th>Goals</th>\n",
       "      <th>Shots on target</th>\n",
       "      <th>Shots off target</th>\n",
       "      <th>Shooting Accuracy</th>\n",
       "      <th>% Goals-to-shots</th>\n",
       "      <th>Total shots (inc. Blocked)</th>\n",
       "      <th>Hit Woodwork</th>\n",
       "      <th>Penalty goals</th>\n",
       "      <th>Penalties not scored</th>\n",
       "      <th>...</th>\n",
       "      <th>Saves made</th>\n",
       "      <th>Saves-to-shots ratio</th>\n",
       "      <th>Fouls Won</th>\n",
       "      <th>Fouls Conceded</th>\n",
       "      <th>Offsides</th>\n",
       "      <th>Yellow Cards</th>\n",
       "      <th>Red Cards</th>\n",
       "      <th>Subs on</th>\n",
       "      <th>Subs off</th>\n",
       "      <th>Players Used</th>\n",
       "    </tr>\n",
       "  </thead>\n",
       "  <tbody>\n",
       "    <tr>\n",
       "      <th>0</th>\n",
       "      <td>Croatia</td>\n",
       "      <td>4</td>\n",
       "      <td>13</td>\n",
       "      <td>12</td>\n",
       "      <td>51.90%</td>\n",
       "      <td>16.00%</td>\n",
       "      <td>32</td>\n",
       "      <td>0</td>\n",
       "      <td>0</td>\n",
       "      <td>0</td>\n",
       "      <td>...</td>\n",
       "      <td>13</td>\n",
       "      <td>81.30%</td>\n",
       "      <td>41</td>\n",
       "      <td>62</td>\n",
       "      <td>2</td>\n",
       "      <td>9</td>\n",
       "      <td>0</td>\n",
       "      <td>9</td>\n",
       "      <td>9</td>\n",
       "      <td>16</td>\n",
       "    </tr>\n",
       "    <tr>\n",
       "      <th>1</th>\n",
       "      <td>Czech Republic</td>\n",
       "      <td>4</td>\n",
       "      <td>13</td>\n",
       "      <td>18</td>\n",
       "      <td>41.90%</td>\n",
       "      <td>12.90%</td>\n",
       "      <td>39</td>\n",
       "      <td>0</td>\n",
       "      <td>0</td>\n",
       "      <td>0</td>\n",
       "      <td>...</td>\n",
       "      <td>9</td>\n",
       "      <td>60.10%</td>\n",
       "      <td>53</td>\n",
       "      <td>73</td>\n",
       "      <td>8</td>\n",
       "      <td>7</td>\n",
       "      <td>0</td>\n",
       "      <td>11</td>\n",
       "      <td>11</td>\n",
       "      <td>19</td>\n",
       "    </tr>\n",
       "    <tr>\n",
       "      <th>2</th>\n",
       "      <td>Denmark</td>\n",
       "      <td>4</td>\n",
       "      <td>10</td>\n",
       "      <td>10</td>\n",
       "      <td>50.00%</td>\n",
       "      <td>20.00%</td>\n",
       "      <td>27</td>\n",
       "      <td>1</td>\n",
       "      <td>0</td>\n",
       "      <td>0</td>\n",
       "      <td>...</td>\n",
       "      <td>10</td>\n",
       "      <td>66.70%</td>\n",
       "      <td>25</td>\n",
       "      <td>38</td>\n",
       "      <td>8</td>\n",
       "      <td>4</td>\n",
       "      <td>0</td>\n",
       "      <td>7</td>\n",
       "      <td>7</td>\n",
       "      <td>15</td>\n",
       "    </tr>\n",
       "    <tr>\n",
       "      <th>3</th>\n",
       "      <td>England</td>\n",
       "      <td>5</td>\n",
       "      <td>11</td>\n",
       "      <td>18</td>\n",
       "      <td>50.00%</td>\n",
       "      <td>17.20%</td>\n",
       "      <td>40</td>\n",
       "      <td>0</td>\n",
       "      <td>0</td>\n",
       "      <td>0</td>\n",
       "      <td>...</td>\n",
       "      <td>22</td>\n",
       "      <td>88.10%</td>\n",
       "      <td>43</td>\n",
       "      <td>45</td>\n",
       "      <td>6</td>\n",
       "      <td>5</td>\n",
       "      <td>0</td>\n",
       "      <td>11</td>\n",
       "      <td>11</td>\n",
       "      <td>16</td>\n",
       "    </tr>\n",
       "    <tr>\n",
       "      <th>4</th>\n",
       "      <td>France</td>\n",
       "      <td>3</td>\n",
       "      <td>22</td>\n",
       "      <td>24</td>\n",
       "      <td>37.90%</td>\n",
       "      <td>6.50%</td>\n",
       "      <td>65</td>\n",
       "      <td>1</td>\n",
       "      <td>0</td>\n",
       "      <td>0</td>\n",
       "      <td>...</td>\n",
       "      <td>6</td>\n",
       "      <td>54.60%</td>\n",
       "      <td>36</td>\n",
       "      <td>51</td>\n",
       "      <td>5</td>\n",
       "      <td>6</td>\n",
       "      <td>0</td>\n",
       "      <td>11</td>\n",
       "      <td>11</td>\n",
       "      <td>19</td>\n",
       "    </tr>\n",
       "  </tbody>\n",
       "</table>\n",
       "<p>5 rows × 35 columns</p>\n",
       "</div>"
      ],
      "text/plain": [
       "             Team  Goals  Shots on target  Shots off target Shooting Accuracy  \\\n",
       "0         Croatia      4               13                12            51.90%   \n",
       "1  Czech Republic      4               13                18            41.90%   \n",
       "2         Denmark      4               10                10            50.00%   \n",
       "3         England      5               11                18            50.00%   \n",
       "4          France      3               22                24            37.90%   \n",
       "\n",
       "  % Goals-to-shots  Total shots (inc. Blocked)  Hit Woodwork  Penalty goals  \\\n",
       "0           16.00%                          32             0              0   \n",
       "1           12.90%                          39             0              0   \n",
       "2           20.00%                          27             1              0   \n",
       "3           17.20%                          40             0              0   \n",
       "4            6.50%                          65             1              0   \n",
       "\n",
       "   Penalties not scored  ...  Saves made  Saves-to-shots ratio  Fouls Won  \\\n",
       "0                     0  ...          13                81.30%         41   \n",
       "1                     0  ...           9                60.10%         53   \n",
       "2                     0  ...          10                66.70%         25   \n",
       "3                     0  ...          22                88.10%         43   \n",
       "4                     0  ...           6                54.60%         36   \n",
       "\n",
       "  Fouls Conceded  Offsides  Yellow Cards  Red Cards  Subs on  Subs off  \\\n",
       "0             62         2             9          0        9         9   \n",
       "1             73         8             7          0       11        11   \n",
       "2             38         8             4          0        7         7   \n",
       "3             45         6             5          0       11        11   \n",
       "4             51         5             6          0       11        11   \n",
       "\n",
       "   Players Used  \n",
       "0            16  \n",
       "1            19  \n",
       "2            15  \n",
       "3            16  \n",
       "4            19  \n",
       "\n",
       "[5 rows x 35 columns]"
      ]
     },
     "execution_count": 19,
     "metadata": {},
     "output_type": "execute_result"
    }
   ],
   "source": [
    "euro12 = pd.read_csv(\"Euro_2012TEAM.csv\")\n",
    "euro12.head()"
   ]
  },
  {
   "cell_type": "markdown",
   "id": "a72eae93",
   "metadata": {},
   "source": [
    "Step 4. Select only the Goal column"
   ]
  },
  {
   "cell_type": "code",
   "execution_count": 23,
   "id": "0b809404",
   "metadata": {},
   "outputs": [
    {
     "data": {
      "text/plain": [
       "0      4\n",
       "1      4\n",
       "2      4\n",
       "3      5\n",
       "4      3\n",
       "5     10\n",
       "6      5\n",
       "7      6\n",
       "8      2\n",
       "9      2\n",
       "10     6\n",
       "11     1\n",
       "12     5\n",
       "13    12\n",
       "14     5\n",
       "15     2\n",
       "Name: Goals, dtype: int64"
      ]
     },
     "execution_count": 23,
     "metadata": {},
     "output_type": "execute_result"
    }
   ],
   "source": [
    "euro12['Goals']"
   ]
  },
  {
   "cell_type": "markdown",
   "id": "f3750c8b",
   "metadata": {},
   "source": [
    "Step 5. How many team participated in the Euro2012?"
   ]
  },
  {
   "cell_type": "code",
   "execution_count": 24,
   "id": "b21c9409",
   "metadata": {},
   "outputs": [
    {
     "data": {
      "text/plain": [
       "16"
      ]
     },
     "execution_count": 24,
     "metadata": {},
     "output_type": "execute_result"
    }
   ],
   "source": [
    "euro12['Team'].nunique()"
   ]
  },
  {
   "cell_type": "markdown",
   "id": "85d209f7",
   "metadata": {},
   "source": [
    "Step 6. What is the number of columns in the dataset?"
   ]
  },
  {
   "cell_type": "code",
   "execution_count": 25,
   "id": "6fd65b13",
   "metadata": {},
   "outputs": [
    {
     "data": {
      "text/plain": [
       "35"
      ]
     },
     "execution_count": 25,
     "metadata": {},
     "output_type": "execute_result"
    }
   ],
   "source": [
    "len(euro12.columns)"
   ]
  },
  {
   "cell_type": "markdown",
   "id": "9d2a1cfe",
   "metadata": {},
   "source": [
    "Step 7. View only the columns Team, Yellow Cards and Red Cards and assign them to a dataframe called discipline"
   ]
  },
  {
   "cell_type": "code",
   "execution_count": 29,
   "id": "4a0880ef",
   "metadata": {},
   "outputs": [
    {
     "name": "stdout",
     "output_type": "stream",
     "text": [
      "\n",
      "Discipline DataFrame (Team, Yellow Cards, Red Cards):\n",
      "                    Team  Yellow Cards  Red Cards\n",
      "0               Croatia             9          0\n",
      "1        Czech Republic             7          0\n",
      "2               Denmark             4          0\n",
      "3               England             5          0\n",
      "4                France             6          0\n",
      "5               Germany             4          0\n",
      "6                Greece             9          1\n",
      "7                 Italy            16          0\n",
      "8           Netherlands             5          0\n",
      "9                Poland             7          1\n",
      "10             Portugal            12          0\n",
      "11  Republic of Ireland             6          1\n",
      "12               Russia             6          0\n",
      "13                Spain            11          0\n",
      "14               Sweden             7          0\n",
      "15              Ukraine             5          0\n"
     ]
    }
   ],
   "source": [
    "discipline = euro12[['Team', 'Yellow Cards', 'Red Cards']]\n",
    "print(\"\\nDiscipline DataFrame (Team, Yellow Cards, Red Cards):\\n\", discipline)"
   ]
  },
  {
   "cell_type": "markdown",
   "id": "c2ad5336",
   "metadata": {},
   "source": [
    "Step 8. Sort the teams by Red Cards, then to Yellow Cards"
   ]
  },
  {
   "cell_type": "code",
   "execution_count": 35,
   "id": "db51102b",
   "metadata": {},
   "outputs": [
    {
     "name": "stdout",
     "output_type": "stream",
     "text": [
      "Teams sorted by Red Cards, then by Yellow Cards:\n",
      "                    Team  Red Cards  Yellow Cards\n",
      "6                Greece          1             9\n",
      "9                Poland          1             7\n",
      "11  Republic of Ireland          1             6\n",
      "7                 Italy          0            16\n",
      "10             Portugal          0            12\n",
      "13                Spain          0            11\n",
      "0               Croatia          0             9\n",
      "1        Czech Republic          0             7\n",
      "14               Sweden          0             7\n",
      "4                France          0             6\n",
      "12               Russia          0             6\n",
      "3               England          0             5\n",
      "8           Netherlands          0             5\n",
      "15              Ukraine          0             5\n",
      "2               Denmark          0             4\n",
      "5               Germany          0             4\n"
     ]
    }
   ],
   "source": [
    "sorted_discipline = euro12.sort_values(by=['Red Cards', 'Yellow Cards'], ascending=[False, False])\n",
    "print(\"Teams sorted by Red Cards, then by Yellow Cards:\\n\", sorted_discipline[['Team', 'Red Cards', 'Yellow Cards']])"
   ]
  },
  {
   "cell_type": "markdown",
   "id": "42661ce7",
   "metadata": {},
   "source": [
    "Step 9. Calculate the mean Yellow Cards given per Team"
   ]
  },
  {
   "cell_type": "code",
   "execution_count": 37,
   "id": "8011a13f",
   "metadata": {},
   "outputs": [
    {
     "name": "stdout",
     "output_type": "stream",
     "text": [
      "\n",
      "Mean Yellow Cards given per Team: 7.4375\n"
     ]
    }
   ],
   "source": [
    "mean_yellow_cards_per_team = euro12['Yellow Cards'].mean()\n",
    "print(\"\\nMean Yellow Cards given per Team:\", mean_yellow_cards_per_team)"
   ]
  },
  {
   "cell_type": "markdown",
   "id": "b9c83b8c",
   "metadata": {},
   "source": [
    "Step 10. Filter teams that scored more than 6 goals"
   ]
  },
  {
   "cell_type": "code",
   "execution_count": 41,
   "id": "61f753d7",
   "metadata": {},
   "outputs": [
    {
     "data": {
      "text/plain": [
       "5     Germany\n",
       "13      Spain\n",
       "Name: Team, dtype: object"
      ]
     },
     "execution_count": 41,
     "metadata": {},
     "output_type": "execute_result"
    }
   ],
   "source": [
    "euro12[euro12['Goals']>6]['Team']"
   ]
  },
  {
   "cell_type": "markdown",
   "id": "5d61fff1",
   "metadata": {},
   "source": [
    "Step 11. Select the teams that start \n",
    "with G"
   ]
  },
  {
   "cell_type": "code",
   "execution_count": 45,
   "id": "4932369b",
   "metadata": {},
   "outputs": [
    {
     "data": {
      "text/plain": [
       "5    Germany\n",
       "6     Greece\n",
       "Name: Team, dtype: object"
      ]
     },
     "execution_count": 45,
     "metadata": {},
     "output_type": "execute_result"
    }
   ],
   "source": [
    "euro12[euro12['Team'].str.startswith('G')]['Team']"
   ]
  },
  {
   "cell_type": "markdown",
   "id": "80118137",
   "metadata": {},
   "source": [
    "Step 12. Select the first 7 columns"
   ]
  },
  {
   "cell_type": "code",
   "execution_count": 46,
   "id": "38144d8c",
   "metadata": {},
   "outputs": [
    {
     "data": {
      "text/html": [
       "<div>\n",
       "<style scoped>\n",
       "    .dataframe tbody tr th:only-of-type {\n",
       "        vertical-align: middle;\n",
       "    }\n",
       "\n",
       "    .dataframe tbody tr th {\n",
       "        vertical-align: top;\n",
       "    }\n",
       "\n",
       "    .dataframe thead th {\n",
       "        text-align: right;\n",
       "    }\n",
       "</style>\n",
       "<table border=\"1\" class=\"dataframe\">\n",
       "  <thead>\n",
       "    <tr style=\"text-align: right;\">\n",
       "      <th></th>\n",
       "      <th>Team</th>\n",
       "      <th>Goals</th>\n",
       "      <th>Shots on target</th>\n",
       "      <th>Shots off target</th>\n",
       "      <th>Shooting Accuracy</th>\n",
       "      <th>% Goals-to-shots</th>\n",
       "      <th>Total shots (inc. Blocked)</th>\n",
       "    </tr>\n",
       "  </thead>\n",
       "  <tbody>\n",
       "    <tr>\n",
       "      <th>0</th>\n",
       "      <td>Croatia</td>\n",
       "      <td>4</td>\n",
       "      <td>13</td>\n",
       "      <td>12</td>\n",
       "      <td>51.90%</td>\n",
       "      <td>16.00%</td>\n",
       "      <td>32</td>\n",
       "    </tr>\n",
       "    <tr>\n",
       "      <th>1</th>\n",
       "      <td>Czech Republic</td>\n",
       "      <td>4</td>\n",
       "      <td>13</td>\n",
       "      <td>18</td>\n",
       "      <td>41.90%</td>\n",
       "      <td>12.90%</td>\n",
       "      <td>39</td>\n",
       "    </tr>\n",
       "    <tr>\n",
       "      <th>2</th>\n",
       "      <td>Denmark</td>\n",
       "      <td>4</td>\n",
       "      <td>10</td>\n",
       "      <td>10</td>\n",
       "      <td>50.00%</td>\n",
       "      <td>20.00%</td>\n",
       "      <td>27</td>\n",
       "    </tr>\n",
       "    <tr>\n",
       "      <th>3</th>\n",
       "      <td>England</td>\n",
       "      <td>5</td>\n",
       "      <td>11</td>\n",
       "      <td>18</td>\n",
       "      <td>50.00%</td>\n",
       "      <td>17.20%</td>\n",
       "      <td>40</td>\n",
       "    </tr>\n",
       "    <tr>\n",
       "      <th>4</th>\n",
       "      <td>France</td>\n",
       "      <td>3</td>\n",
       "      <td>22</td>\n",
       "      <td>24</td>\n",
       "      <td>37.90%</td>\n",
       "      <td>6.50%</td>\n",
       "      <td>65</td>\n",
       "    </tr>\n",
       "    <tr>\n",
       "      <th>5</th>\n",
       "      <td>Germany</td>\n",
       "      <td>10</td>\n",
       "      <td>32</td>\n",
       "      <td>32</td>\n",
       "      <td>47.80%</td>\n",
       "      <td>15.60%</td>\n",
       "      <td>80</td>\n",
       "    </tr>\n",
       "    <tr>\n",
       "      <th>6</th>\n",
       "      <td>Greece</td>\n",
       "      <td>5</td>\n",
       "      <td>8</td>\n",
       "      <td>18</td>\n",
       "      <td>30.70%</td>\n",
       "      <td>19.20%</td>\n",
       "      <td>32</td>\n",
       "    </tr>\n",
       "    <tr>\n",
       "      <th>7</th>\n",
       "      <td>Italy</td>\n",
       "      <td>6</td>\n",
       "      <td>34</td>\n",
       "      <td>45</td>\n",
       "      <td>43.00%</td>\n",
       "      <td>7.50%</td>\n",
       "      <td>110</td>\n",
       "    </tr>\n",
       "    <tr>\n",
       "      <th>8</th>\n",
       "      <td>Netherlands</td>\n",
       "      <td>2</td>\n",
       "      <td>12</td>\n",
       "      <td>36</td>\n",
       "      <td>25.00%</td>\n",
       "      <td>4.10%</td>\n",
       "      <td>60</td>\n",
       "    </tr>\n",
       "    <tr>\n",
       "      <th>9</th>\n",
       "      <td>Poland</td>\n",
       "      <td>2</td>\n",
       "      <td>15</td>\n",
       "      <td>23</td>\n",
       "      <td>39.40%</td>\n",
       "      <td>5.20%</td>\n",
       "      <td>48</td>\n",
       "    </tr>\n",
       "    <tr>\n",
       "      <th>10</th>\n",
       "      <td>Portugal</td>\n",
       "      <td>6</td>\n",
       "      <td>22</td>\n",
       "      <td>42</td>\n",
       "      <td>34.30%</td>\n",
       "      <td>9.30%</td>\n",
       "      <td>82</td>\n",
       "    </tr>\n",
       "    <tr>\n",
       "      <th>11</th>\n",
       "      <td>Republic of Ireland</td>\n",
       "      <td>1</td>\n",
       "      <td>7</td>\n",
       "      <td>12</td>\n",
       "      <td>36.80%</td>\n",
       "      <td>5.20%</td>\n",
       "      <td>28</td>\n",
       "    </tr>\n",
       "    <tr>\n",
       "      <th>12</th>\n",
       "      <td>Russia</td>\n",
       "      <td>5</td>\n",
       "      <td>9</td>\n",
       "      <td>31</td>\n",
       "      <td>22.50%</td>\n",
       "      <td>12.50%</td>\n",
       "      <td>59</td>\n",
       "    </tr>\n",
       "    <tr>\n",
       "      <th>13</th>\n",
       "      <td>Spain</td>\n",
       "      <td>12</td>\n",
       "      <td>42</td>\n",
       "      <td>33</td>\n",
       "      <td>55.90%</td>\n",
       "      <td>16.00%</td>\n",
       "      <td>100</td>\n",
       "    </tr>\n",
       "    <tr>\n",
       "      <th>14</th>\n",
       "      <td>Sweden</td>\n",
       "      <td>5</td>\n",
       "      <td>17</td>\n",
       "      <td>19</td>\n",
       "      <td>47.20%</td>\n",
       "      <td>13.80%</td>\n",
       "      <td>39</td>\n",
       "    </tr>\n",
       "    <tr>\n",
       "      <th>15</th>\n",
       "      <td>Ukraine</td>\n",
       "      <td>2</td>\n",
       "      <td>7</td>\n",
       "      <td>26</td>\n",
       "      <td>21.20%</td>\n",
       "      <td>6.00%</td>\n",
       "      <td>38</td>\n",
       "    </tr>\n",
       "  </tbody>\n",
       "</table>\n",
       "</div>"
      ],
      "text/plain": [
       "                   Team  Goals  Shots on target  Shots off target  \\\n",
       "0               Croatia      4               13                12   \n",
       "1        Czech Republic      4               13                18   \n",
       "2               Denmark      4               10                10   \n",
       "3               England      5               11                18   \n",
       "4                France      3               22                24   \n",
       "5               Germany     10               32                32   \n",
       "6                Greece      5                8                18   \n",
       "7                 Italy      6               34                45   \n",
       "8           Netherlands      2               12                36   \n",
       "9                Poland      2               15                23   \n",
       "10             Portugal      6               22                42   \n",
       "11  Republic of Ireland      1                7                12   \n",
       "12               Russia      5                9                31   \n",
       "13                Spain     12               42                33   \n",
       "14               Sweden      5               17                19   \n",
       "15              Ukraine      2                7                26   \n",
       "\n",
       "   Shooting Accuracy % Goals-to-shots  Total shots (inc. Blocked)  \n",
       "0             51.90%           16.00%                          32  \n",
       "1             41.90%           12.90%                          39  \n",
       "2             50.00%           20.00%                          27  \n",
       "3             50.00%           17.20%                          40  \n",
       "4             37.90%            6.50%                          65  \n",
       "5             47.80%           15.60%                          80  \n",
       "6             30.70%           19.20%                          32  \n",
       "7             43.00%            7.50%                         110  \n",
       "8             25.00%            4.10%                          60  \n",
       "9             39.40%            5.20%                          48  \n",
       "10            34.30%            9.30%                          82  \n",
       "11            36.80%            5.20%                          28  \n",
       "12            22.50%           12.50%                          59  \n",
       "13            55.90%           16.00%                         100  \n",
       "14            47.20%           13.80%                          39  \n",
       "15            21.20%            6.00%                          38  "
      ]
     },
     "execution_count": 46,
     "metadata": {},
     "output_type": "execute_result"
    }
   ],
   "source": [
    "euro12.iloc[:, : 7]"
   ]
  },
  {
   "cell_type": "markdown",
   "id": "bb5cb361",
   "metadata": {},
   "source": [
    "Step 13. Select all columns except the last 3"
   ]
  },
  {
   "cell_type": "code",
   "execution_count": 47,
   "id": "8b5d4f3a",
   "metadata": {},
   "outputs": [
    {
     "data": {
      "text/html": [
       "<div>\n",
       "<style scoped>\n",
       "    .dataframe tbody tr th:only-of-type {\n",
       "        vertical-align: middle;\n",
       "    }\n",
       "\n",
       "    .dataframe tbody tr th {\n",
       "        vertical-align: top;\n",
       "    }\n",
       "\n",
       "    .dataframe thead th {\n",
       "        text-align: right;\n",
       "    }\n",
       "</style>\n",
       "<table border=\"1\" class=\"dataframe\">\n",
       "  <thead>\n",
       "    <tr style=\"text-align: right;\">\n",
       "      <th></th>\n",
       "      <th>Team</th>\n",
       "      <th>Goals</th>\n",
       "      <th>Shots on target</th>\n",
       "      <th>Shots off target</th>\n",
       "      <th>Shooting Accuracy</th>\n",
       "      <th>% Goals-to-shots</th>\n",
       "      <th>Total shots (inc. Blocked)</th>\n",
       "      <th>Hit Woodwork</th>\n",
       "      <th>Penalty goals</th>\n",
       "      <th>Penalties not scored</th>\n",
       "      <th>...</th>\n",
       "      <th>Clean Sheets</th>\n",
       "      <th>Blocks</th>\n",
       "      <th>Goals conceded</th>\n",
       "      <th>Saves made</th>\n",
       "      <th>Saves-to-shots ratio</th>\n",
       "      <th>Fouls Won</th>\n",
       "      <th>Fouls Conceded</th>\n",
       "      <th>Offsides</th>\n",
       "      <th>Yellow Cards</th>\n",
       "      <th>Red Cards</th>\n",
       "    </tr>\n",
       "  </thead>\n",
       "  <tbody>\n",
       "    <tr>\n",
       "      <th>0</th>\n",
       "      <td>Croatia</td>\n",
       "      <td>4</td>\n",
       "      <td>13</td>\n",
       "      <td>12</td>\n",
       "      <td>51.90%</td>\n",
       "      <td>16.00%</td>\n",
       "      <td>32</td>\n",
       "      <td>0</td>\n",
       "      <td>0</td>\n",
       "      <td>0</td>\n",
       "      <td>...</td>\n",
       "      <td>0</td>\n",
       "      <td>10</td>\n",
       "      <td>3</td>\n",
       "      <td>13</td>\n",
       "      <td>81.30%</td>\n",
       "      <td>41</td>\n",
       "      <td>62</td>\n",
       "      <td>2</td>\n",
       "      <td>9</td>\n",
       "      <td>0</td>\n",
       "    </tr>\n",
       "    <tr>\n",
       "      <th>1</th>\n",
       "      <td>Czech Republic</td>\n",
       "      <td>4</td>\n",
       "      <td>13</td>\n",
       "      <td>18</td>\n",
       "      <td>41.90%</td>\n",
       "      <td>12.90%</td>\n",
       "      <td>39</td>\n",
       "      <td>0</td>\n",
       "      <td>0</td>\n",
       "      <td>0</td>\n",
       "      <td>...</td>\n",
       "      <td>1</td>\n",
       "      <td>10</td>\n",
       "      <td>6</td>\n",
       "      <td>9</td>\n",
       "      <td>60.10%</td>\n",
       "      <td>53</td>\n",
       "      <td>73</td>\n",
       "      <td>8</td>\n",
       "      <td>7</td>\n",
       "      <td>0</td>\n",
       "    </tr>\n",
       "    <tr>\n",
       "      <th>2</th>\n",
       "      <td>Denmark</td>\n",
       "      <td>4</td>\n",
       "      <td>10</td>\n",
       "      <td>10</td>\n",
       "      <td>50.00%</td>\n",
       "      <td>20.00%</td>\n",
       "      <td>27</td>\n",
       "      <td>1</td>\n",
       "      <td>0</td>\n",
       "      <td>0</td>\n",
       "      <td>...</td>\n",
       "      <td>1</td>\n",
       "      <td>10</td>\n",
       "      <td>5</td>\n",
       "      <td>10</td>\n",
       "      <td>66.70%</td>\n",
       "      <td>25</td>\n",
       "      <td>38</td>\n",
       "      <td>8</td>\n",
       "      <td>4</td>\n",
       "      <td>0</td>\n",
       "    </tr>\n",
       "    <tr>\n",
       "      <th>3</th>\n",
       "      <td>England</td>\n",
       "      <td>5</td>\n",
       "      <td>11</td>\n",
       "      <td>18</td>\n",
       "      <td>50.00%</td>\n",
       "      <td>17.20%</td>\n",
       "      <td>40</td>\n",
       "      <td>0</td>\n",
       "      <td>0</td>\n",
       "      <td>0</td>\n",
       "      <td>...</td>\n",
       "      <td>2</td>\n",
       "      <td>29</td>\n",
       "      <td>3</td>\n",
       "      <td>22</td>\n",
       "      <td>88.10%</td>\n",
       "      <td>43</td>\n",
       "      <td>45</td>\n",
       "      <td>6</td>\n",
       "      <td>5</td>\n",
       "      <td>0</td>\n",
       "    </tr>\n",
       "    <tr>\n",
       "      <th>4</th>\n",
       "      <td>France</td>\n",
       "      <td>3</td>\n",
       "      <td>22</td>\n",
       "      <td>24</td>\n",
       "      <td>37.90%</td>\n",
       "      <td>6.50%</td>\n",
       "      <td>65</td>\n",
       "      <td>1</td>\n",
       "      <td>0</td>\n",
       "      <td>0</td>\n",
       "      <td>...</td>\n",
       "      <td>1</td>\n",
       "      <td>7</td>\n",
       "      <td>5</td>\n",
       "      <td>6</td>\n",
       "      <td>54.60%</td>\n",
       "      <td>36</td>\n",
       "      <td>51</td>\n",
       "      <td>5</td>\n",
       "      <td>6</td>\n",
       "      <td>0</td>\n",
       "    </tr>\n",
       "    <tr>\n",
       "      <th>5</th>\n",
       "      <td>Germany</td>\n",
       "      <td>10</td>\n",
       "      <td>32</td>\n",
       "      <td>32</td>\n",
       "      <td>47.80%</td>\n",
       "      <td>15.60%</td>\n",
       "      <td>80</td>\n",
       "      <td>2</td>\n",
       "      <td>1</td>\n",
       "      <td>0</td>\n",
       "      <td>...</td>\n",
       "      <td>1</td>\n",
       "      <td>11</td>\n",
       "      <td>6</td>\n",
       "      <td>10</td>\n",
       "      <td>62.60%</td>\n",
       "      <td>63</td>\n",
       "      <td>49</td>\n",
       "      <td>12</td>\n",
       "      <td>4</td>\n",
       "      <td>0</td>\n",
       "    </tr>\n",
       "    <tr>\n",
       "      <th>6</th>\n",
       "      <td>Greece</td>\n",
       "      <td>5</td>\n",
       "      <td>8</td>\n",
       "      <td>18</td>\n",
       "      <td>30.70%</td>\n",
       "      <td>19.20%</td>\n",
       "      <td>32</td>\n",
       "      <td>1</td>\n",
       "      <td>1</td>\n",
       "      <td>1</td>\n",
       "      <td>...</td>\n",
       "      <td>1</td>\n",
       "      <td>23</td>\n",
       "      <td>7</td>\n",
       "      <td>13</td>\n",
       "      <td>65.10%</td>\n",
       "      <td>67</td>\n",
       "      <td>48</td>\n",
       "      <td>12</td>\n",
       "      <td>9</td>\n",
       "      <td>1</td>\n",
       "    </tr>\n",
       "    <tr>\n",
       "      <th>7</th>\n",
       "      <td>Italy</td>\n",
       "      <td>6</td>\n",
       "      <td>34</td>\n",
       "      <td>45</td>\n",
       "      <td>43.00%</td>\n",
       "      <td>7.50%</td>\n",
       "      <td>110</td>\n",
       "      <td>2</td>\n",
       "      <td>0</td>\n",
       "      <td>0</td>\n",
       "      <td>...</td>\n",
       "      <td>2</td>\n",
       "      <td>18</td>\n",
       "      <td>7</td>\n",
       "      <td>20</td>\n",
       "      <td>74.10%</td>\n",
       "      <td>101</td>\n",
       "      <td>89</td>\n",
       "      <td>16</td>\n",
       "      <td>16</td>\n",
       "      <td>0</td>\n",
       "    </tr>\n",
       "    <tr>\n",
       "      <th>8</th>\n",
       "      <td>Netherlands</td>\n",
       "      <td>2</td>\n",
       "      <td>12</td>\n",
       "      <td>36</td>\n",
       "      <td>25.00%</td>\n",
       "      <td>4.10%</td>\n",
       "      <td>60</td>\n",
       "      <td>2</td>\n",
       "      <td>0</td>\n",
       "      <td>0</td>\n",
       "      <td>...</td>\n",
       "      <td>0</td>\n",
       "      <td>9</td>\n",
       "      <td>5</td>\n",
       "      <td>12</td>\n",
       "      <td>70.60%</td>\n",
       "      <td>35</td>\n",
       "      <td>30</td>\n",
       "      <td>3</td>\n",
       "      <td>5</td>\n",
       "      <td>0</td>\n",
       "    </tr>\n",
       "    <tr>\n",
       "      <th>9</th>\n",
       "      <td>Poland</td>\n",
       "      <td>2</td>\n",
       "      <td>15</td>\n",
       "      <td>23</td>\n",
       "      <td>39.40%</td>\n",
       "      <td>5.20%</td>\n",
       "      <td>48</td>\n",
       "      <td>0</td>\n",
       "      <td>0</td>\n",
       "      <td>0</td>\n",
       "      <td>...</td>\n",
       "      <td>0</td>\n",
       "      <td>8</td>\n",
       "      <td>3</td>\n",
       "      <td>6</td>\n",
       "      <td>66.70%</td>\n",
       "      <td>48</td>\n",
       "      <td>56</td>\n",
       "      <td>3</td>\n",
       "      <td>7</td>\n",
       "      <td>1</td>\n",
       "    </tr>\n",
       "    <tr>\n",
       "      <th>10</th>\n",
       "      <td>Portugal</td>\n",
       "      <td>6</td>\n",
       "      <td>22</td>\n",
       "      <td>42</td>\n",
       "      <td>34.30%</td>\n",
       "      <td>9.30%</td>\n",
       "      <td>82</td>\n",
       "      <td>6</td>\n",
       "      <td>0</td>\n",
       "      <td>0</td>\n",
       "      <td>...</td>\n",
       "      <td>2</td>\n",
       "      <td>11</td>\n",
       "      <td>4</td>\n",
       "      <td>10</td>\n",
       "      <td>71.50%</td>\n",
       "      <td>73</td>\n",
       "      <td>90</td>\n",
       "      <td>10</td>\n",
       "      <td>12</td>\n",
       "      <td>0</td>\n",
       "    </tr>\n",
       "    <tr>\n",
       "      <th>11</th>\n",
       "      <td>Republic of Ireland</td>\n",
       "      <td>1</td>\n",
       "      <td>7</td>\n",
       "      <td>12</td>\n",
       "      <td>36.80%</td>\n",
       "      <td>5.20%</td>\n",
       "      <td>28</td>\n",
       "      <td>0</td>\n",
       "      <td>0</td>\n",
       "      <td>0</td>\n",
       "      <td>...</td>\n",
       "      <td>0</td>\n",
       "      <td>23</td>\n",
       "      <td>9</td>\n",
       "      <td>17</td>\n",
       "      <td>65.40%</td>\n",
       "      <td>43</td>\n",
       "      <td>51</td>\n",
       "      <td>11</td>\n",
       "      <td>6</td>\n",
       "      <td>1</td>\n",
       "    </tr>\n",
       "    <tr>\n",
       "      <th>12</th>\n",
       "      <td>Russia</td>\n",
       "      <td>5</td>\n",
       "      <td>9</td>\n",
       "      <td>31</td>\n",
       "      <td>22.50%</td>\n",
       "      <td>12.50%</td>\n",
       "      <td>59</td>\n",
       "      <td>2</td>\n",
       "      <td>0</td>\n",
       "      <td>0</td>\n",
       "      <td>...</td>\n",
       "      <td>0</td>\n",
       "      <td>8</td>\n",
       "      <td>3</td>\n",
       "      <td>10</td>\n",
       "      <td>77.00%</td>\n",
       "      <td>34</td>\n",
       "      <td>43</td>\n",
       "      <td>4</td>\n",
       "      <td>6</td>\n",
       "      <td>0</td>\n",
       "    </tr>\n",
       "    <tr>\n",
       "      <th>13</th>\n",
       "      <td>Spain</td>\n",
       "      <td>12</td>\n",
       "      <td>42</td>\n",
       "      <td>33</td>\n",
       "      <td>55.90%</td>\n",
       "      <td>16.00%</td>\n",
       "      <td>100</td>\n",
       "      <td>0</td>\n",
       "      <td>1</td>\n",
       "      <td>0</td>\n",
       "      <td>...</td>\n",
       "      <td>5</td>\n",
       "      <td>8</td>\n",
       "      <td>1</td>\n",
       "      <td>15</td>\n",
       "      <td>93.80%</td>\n",
       "      <td>102</td>\n",
       "      <td>83</td>\n",
       "      <td>19</td>\n",
       "      <td>11</td>\n",
       "      <td>0</td>\n",
       "    </tr>\n",
       "    <tr>\n",
       "      <th>14</th>\n",
       "      <td>Sweden</td>\n",
       "      <td>5</td>\n",
       "      <td>17</td>\n",
       "      <td>19</td>\n",
       "      <td>47.20%</td>\n",
       "      <td>13.80%</td>\n",
       "      <td>39</td>\n",
       "      <td>3</td>\n",
       "      <td>0</td>\n",
       "      <td>0</td>\n",
       "      <td>...</td>\n",
       "      <td>1</td>\n",
       "      <td>12</td>\n",
       "      <td>5</td>\n",
       "      <td>8</td>\n",
       "      <td>61.60%</td>\n",
       "      <td>35</td>\n",
       "      <td>51</td>\n",
       "      <td>7</td>\n",
       "      <td>7</td>\n",
       "      <td>0</td>\n",
       "    </tr>\n",
       "    <tr>\n",
       "      <th>15</th>\n",
       "      <td>Ukraine</td>\n",
       "      <td>2</td>\n",
       "      <td>7</td>\n",
       "      <td>26</td>\n",
       "      <td>21.20%</td>\n",
       "      <td>6.00%</td>\n",
       "      <td>38</td>\n",
       "      <td>0</td>\n",
       "      <td>0</td>\n",
       "      <td>0</td>\n",
       "      <td>...</td>\n",
       "      <td>0</td>\n",
       "      <td>4</td>\n",
       "      <td>4</td>\n",
       "      <td>13</td>\n",
       "      <td>76.50%</td>\n",
       "      <td>48</td>\n",
       "      <td>31</td>\n",
       "      <td>4</td>\n",
       "      <td>5</td>\n",
       "      <td>0</td>\n",
       "    </tr>\n",
       "  </tbody>\n",
       "</table>\n",
       "<p>16 rows × 32 columns</p>\n",
       "</div>"
      ],
      "text/plain": [
       "                   Team  Goals  Shots on target  Shots off target  \\\n",
       "0               Croatia      4               13                12   \n",
       "1        Czech Republic      4               13                18   \n",
       "2               Denmark      4               10                10   \n",
       "3               England      5               11                18   \n",
       "4                France      3               22                24   \n",
       "5               Germany     10               32                32   \n",
       "6                Greece      5                8                18   \n",
       "7                 Italy      6               34                45   \n",
       "8           Netherlands      2               12                36   \n",
       "9                Poland      2               15                23   \n",
       "10             Portugal      6               22                42   \n",
       "11  Republic of Ireland      1                7                12   \n",
       "12               Russia      5                9                31   \n",
       "13                Spain     12               42                33   \n",
       "14               Sweden      5               17                19   \n",
       "15              Ukraine      2                7                26   \n",
       "\n",
       "   Shooting Accuracy % Goals-to-shots  Total shots (inc. Blocked)  \\\n",
       "0             51.90%           16.00%                          32   \n",
       "1             41.90%           12.90%                          39   \n",
       "2             50.00%           20.00%                          27   \n",
       "3             50.00%           17.20%                          40   \n",
       "4             37.90%            6.50%                          65   \n",
       "5             47.80%           15.60%                          80   \n",
       "6             30.70%           19.20%                          32   \n",
       "7             43.00%            7.50%                         110   \n",
       "8             25.00%            4.10%                          60   \n",
       "9             39.40%            5.20%                          48   \n",
       "10            34.30%            9.30%                          82   \n",
       "11            36.80%            5.20%                          28   \n",
       "12            22.50%           12.50%                          59   \n",
       "13            55.90%           16.00%                         100   \n",
       "14            47.20%           13.80%                          39   \n",
       "15            21.20%            6.00%                          38   \n",
       "\n",
       "    Hit Woodwork  Penalty goals  Penalties not scored  ...  Clean Sheets  \\\n",
       "0              0              0                     0  ...             0   \n",
       "1              0              0                     0  ...             1   \n",
       "2              1              0                     0  ...             1   \n",
       "3              0              0                     0  ...             2   \n",
       "4              1              0                     0  ...             1   \n",
       "5              2              1                     0  ...             1   \n",
       "6              1              1                     1  ...             1   \n",
       "7              2              0                     0  ...             2   \n",
       "8              2              0                     0  ...             0   \n",
       "9              0              0                     0  ...             0   \n",
       "10             6              0                     0  ...             2   \n",
       "11             0              0                     0  ...             0   \n",
       "12             2              0                     0  ...             0   \n",
       "13             0              1                     0  ...             5   \n",
       "14             3              0                     0  ...             1   \n",
       "15             0              0                     0  ...             0   \n",
       "\n",
       "    Blocks  Goals conceded Saves made  Saves-to-shots ratio  Fouls Won  \\\n",
       "0       10               3         13                81.30%         41   \n",
       "1       10               6          9                60.10%         53   \n",
       "2       10               5         10                66.70%         25   \n",
       "3       29               3         22                88.10%         43   \n",
       "4        7               5          6                54.60%         36   \n",
       "5       11               6         10                62.60%         63   \n",
       "6       23               7         13                65.10%         67   \n",
       "7       18               7         20                74.10%        101   \n",
       "8        9               5         12                70.60%         35   \n",
       "9        8               3          6                66.70%         48   \n",
       "10      11               4         10                71.50%         73   \n",
       "11      23               9         17                65.40%         43   \n",
       "12       8               3         10                77.00%         34   \n",
       "13       8               1         15                93.80%        102   \n",
       "14      12               5          8                61.60%         35   \n",
       "15       4               4         13                76.50%         48   \n",
       "\n",
       "    Fouls Conceded  Offsides  Yellow Cards  Red Cards  \n",
       "0               62         2             9          0  \n",
       "1               73         8             7          0  \n",
       "2               38         8             4          0  \n",
       "3               45         6             5          0  \n",
       "4               51         5             6          0  \n",
       "5               49        12             4          0  \n",
       "6               48        12             9          1  \n",
       "7               89        16            16          0  \n",
       "8               30         3             5          0  \n",
       "9               56         3             7          1  \n",
       "10              90        10            12          0  \n",
       "11              51        11             6          1  \n",
       "12              43         4             6          0  \n",
       "13              83        19            11          0  \n",
       "14              51         7             7          0  \n",
       "15              31         4             5          0  \n",
       "\n",
       "[16 rows x 32 columns]"
      ]
     },
     "execution_count": 47,
     "metadata": {},
     "output_type": "execute_result"
    }
   ],
   "source": [
    "euro12.iloc[ : , : -3]"
   ]
  },
  {
   "cell_type": "markdown",
   "id": "90f0f5b2",
   "metadata": {},
   "source": [
    "Step 14. Present only the Shooting Accuracy from England, Italy and Russia"
   ]
  },
  {
   "cell_type": "code",
   "execution_count": 48,
   "id": "35265e9f",
   "metadata": {},
   "outputs": [
    {
     "data": {
      "text/plain": [
       "3     50.00%\n",
       "7     43.00%\n",
       "12    22.50%\n",
       "Name: Shooting Accuracy, dtype: object"
      ]
     },
     "execution_count": 48,
     "metadata": {},
     "output_type": "execute_result"
    }
   ],
   "source": [
    "euro12.loc[euro12.Team.isin(['England','Italy','Russia']),'Shooting Accuracy']"
   ]
  },
  {
   "cell_type": "markdown",
   "id": "eb75fd19",
   "metadata": {},
   "source": [
    "# Question 3"
   ]
  },
  {
   "cell_type": "markdown",
   "id": "4bb8cde1",
   "metadata": {},
   "source": [
    "Housing"
   ]
  },
  {
   "cell_type": "markdown",
   "id": "6f794c76",
   "metadata": {},
   "source": [
    "Step 1. Import the necessary libraries"
   ]
  },
  {
   "cell_type": "code",
   "execution_count": 49,
   "id": "626e2f2b",
   "metadata": {},
   "outputs": [],
   "source": [
    "import numpy as np\n",
    "import pandas as pd"
   ]
  },
  {
   "cell_type": "markdown",
   "id": "6aec5898",
   "metadata": {},
   "source": [
    "Step 2. Create 3 differents Series, each of length 100."
   ]
  },
  {
   "cell_type": "code",
   "execution_count": 50,
   "id": "1f65cc9d",
   "metadata": {},
   "outputs": [],
   "source": [
    "series_1 = pd.Series(np.random.randint(1, 5, size=100))\n",
    "series_2 = pd.Series(np.random.randint(1, 4, size=100))\n",
    "series_3 = pd.Series(np.random.randint(10000, 30001, size=100))   "
   ]
  },
  {
   "cell_type": "markdown",
   "id": "04d7ff8a",
   "metadata": {},
   "source": [
    "Step 3. Create a DataFrame by joinning the Series by column"
   ]
  },
  {
   "cell_type": "code",
   "execution_count": 51,
   "id": "2ac073f9",
   "metadata": {},
   "outputs": [
    {
     "data": {
      "text/html": [
       "<div>\n",
       "<style scoped>\n",
       "    .dataframe tbody tr th:only-of-type {\n",
       "        vertical-align: middle;\n",
       "    }\n",
       "\n",
       "    .dataframe tbody tr th {\n",
       "        vertical-align: top;\n",
       "    }\n",
       "\n",
       "    .dataframe thead th {\n",
       "        text-align: right;\n",
       "    }\n",
       "</style>\n",
       "<table border=\"1\" class=\"dataframe\">\n",
       "  <thead>\n",
       "    <tr style=\"text-align: right;\">\n",
       "      <th></th>\n",
       "      <th>0</th>\n",
       "      <th>1</th>\n",
       "      <th>2</th>\n",
       "    </tr>\n",
       "  </thead>\n",
       "  <tbody>\n",
       "    <tr>\n",
       "      <th>0</th>\n",
       "      <td>3</td>\n",
       "      <td>3</td>\n",
       "      <td>29147</td>\n",
       "    </tr>\n",
       "    <tr>\n",
       "      <th>1</th>\n",
       "      <td>3</td>\n",
       "      <td>2</td>\n",
       "      <td>11399</td>\n",
       "    </tr>\n",
       "    <tr>\n",
       "      <th>2</th>\n",
       "      <td>1</td>\n",
       "      <td>2</td>\n",
       "      <td>16144</td>\n",
       "    </tr>\n",
       "    <tr>\n",
       "      <th>3</th>\n",
       "      <td>2</td>\n",
       "      <td>1</td>\n",
       "      <td>23769</td>\n",
       "    </tr>\n",
       "    <tr>\n",
       "      <th>4</th>\n",
       "      <td>1</td>\n",
       "      <td>3</td>\n",
       "      <td>14779</td>\n",
       "    </tr>\n",
       "    <tr>\n",
       "      <th>...</th>\n",
       "      <td>...</td>\n",
       "      <td>...</td>\n",
       "      <td>...</td>\n",
       "    </tr>\n",
       "    <tr>\n",
       "      <th>95</th>\n",
       "      <td>4</td>\n",
       "      <td>1</td>\n",
       "      <td>11998</td>\n",
       "    </tr>\n",
       "    <tr>\n",
       "      <th>96</th>\n",
       "      <td>4</td>\n",
       "      <td>3</td>\n",
       "      <td>23057</td>\n",
       "    </tr>\n",
       "    <tr>\n",
       "      <th>97</th>\n",
       "      <td>1</td>\n",
       "      <td>3</td>\n",
       "      <td>11826</td>\n",
       "    </tr>\n",
       "    <tr>\n",
       "      <th>98</th>\n",
       "      <td>3</td>\n",
       "      <td>3</td>\n",
       "      <td>23894</td>\n",
       "    </tr>\n",
       "    <tr>\n",
       "      <th>99</th>\n",
       "      <td>3</td>\n",
       "      <td>3</td>\n",
       "      <td>29694</td>\n",
       "    </tr>\n",
       "  </tbody>\n",
       "</table>\n",
       "<p>100 rows × 3 columns</p>\n",
       "</div>"
      ],
      "text/plain": [
       "    0  1      2\n",
       "0   3  3  29147\n",
       "1   3  2  11399\n",
       "2   1  2  16144\n",
       "3   2  1  23769\n",
       "4   1  3  14779\n",
       ".. .. ..    ...\n",
       "95  4  1  11998\n",
       "96  4  3  23057\n",
       "97  1  3  11826\n",
       "98  3  3  23894\n",
       "99  3  3  29694\n",
       "\n",
       "[100 rows x 3 columns]"
      ]
     },
     "execution_count": 51,
     "metadata": {},
     "output_type": "execute_result"
    }
   ],
   "source": [
    "data_frame = pd.concat([series_1, series_2, series_3], axis=1)\n",
    "data_frame"
   ]
  },
  {
   "cell_type": "markdown",
   "id": "dd265cbf",
   "metadata": {},
   "source": [
    "Step 4. Change the name of the columns to bedrs, bathrs, price_sqr_meter"
   ]
  },
  {
   "cell_type": "code",
   "execution_count": 59,
   "id": "cc3861af",
   "metadata": {},
   "outputs": [
    {
     "data": {
      "text/html": [
       "<div>\n",
       "<style scoped>\n",
       "    .dataframe tbody tr th:only-of-type {\n",
       "        vertical-align: middle;\n",
       "    }\n",
       "\n",
       "    .dataframe tbody tr th {\n",
       "        vertical-align: top;\n",
       "    }\n",
       "\n",
       "    .dataframe thead th {\n",
       "        text-align: right;\n",
       "    }\n",
       "</style>\n",
       "<table border=\"1\" class=\"dataframe\">\n",
       "  <thead>\n",
       "    <tr style=\"text-align: right;\">\n",
       "      <th></th>\n",
       "      <th>bedrs</th>\n",
       "      <th>bathrs</th>\n",
       "      <th>price_sqr_meter</th>\n",
       "    </tr>\n",
       "  </thead>\n",
       "  <tbody>\n",
       "    <tr>\n",
       "      <th>0</th>\n",
       "      <td>3</td>\n",
       "      <td>3</td>\n",
       "      <td>29147</td>\n",
       "    </tr>\n",
       "    <tr>\n",
       "      <th>1</th>\n",
       "      <td>3</td>\n",
       "      <td>2</td>\n",
       "      <td>11399</td>\n",
       "    </tr>\n",
       "    <tr>\n",
       "      <th>2</th>\n",
       "      <td>1</td>\n",
       "      <td>2</td>\n",
       "      <td>16144</td>\n",
       "    </tr>\n",
       "    <tr>\n",
       "      <th>3</th>\n",
       "      <td>2</td>\n",
       "      <td>1</td>\n",
       "      <td>23769</td>\n",
       "    </tr>\n",
       "    <tr>\n",
       "      <th>4</th>\n",
       "      <td>1</td>\n",
       "      <td>3</td>\n",
       "      <td>14779</td>\n",
       "    </tr>\n",
       "    <tr>\n",
       "      <th>...</th>\n",
       "      <td>...</td>\n",
       "      <td>...</td>\n",
       "      <td>...</td>\n",
       "    </tr>\n",
       "    <tr>\n",
       "      <th>95</th>\n",
       "      <td>4</td>\n",
       "      <td>1</td>\n",
       "      <td>11998</td>\n",
       "    </tr>\n",
       "    <tr>\n",
       "      <th>96</th>\n",
       "      <td>4</td>\n",
       "      <td>3</td>\n",
       "      <td>23057</td>\n",
       "    </tr>\n",
       "    <tr>\n",
       "      <th>97</th>\n",
       "      <td>1</td>\n",
       "      <td>3</td>\n",
       "      <td>11826</td>\n",
       "    </tr>\n",
       "    <tr>\n",
       "      <th>98</th>\n",
       "      <td>3</td>\n",
       "      <td>3</td>\n",
       "      <td>23894</td>\n",
       "    </tr>\n",
       "    <tr>\n",
       "      <th>99</th>\n",
       "      <td>3</td>\n",
       "      <td>3</td>\n",
       "      <td>29694</td>\n",
       "    </tr>\n",
       "  </tbody>\n",
       "</table>\n",
       "<p>100 rows × 3 columns</p>\n",
       "</div>"
      ],
      "text/plain": [
       "    bedrs  bathrs  price_sqr_meter\n",
       "0       3       3            29147\n",
       "1       3       2            11399\n",
       "2       1       2            16144\n",
       "3       2       1            23769\n",
       "4       1       3            14779\n",
       "..    ...     ...              ...\n",
       "95      4       1            11998\n",
       "96      4       3            23057\n",
       "97      1       3            11826\n",
       "98      3       3            23894\n",
       "99      3       3            29694\n",
       "\n",
       "[100 rows x 3 columns]"
      ]
     },
     "execution_count": 59,
     "metadata": {},
     "output_type": "execute_result"
    }
   ],
   "source": [
    "data_frame.columns = ['bedrs', 'bathrs', 'price_sqr_meter']\n",
    "data_frame"
   ]
  },
  {
   "cell_type": "markdown",
   "id": "d1ab18c9",
   "metadata": {},
   "source": [
    "Step 5. Create a one column DataFrame with the values of the 3 Series and assign it \n",
    "to 'bigcolumn'"
   ]
  },
  {
   "cell_type": "code",
   "execution_count": 64,
   "id": "2df82c4c",
   "metadata": {},
   "outputs": [
    {
     "data": {
      "text/plain": [
       "0         3\n",
       "1         3\n",
       "2         1\n",
       "3         2\n",
       "4         1\n",
       "      ...  \n",
       "95    11998\n",
       "96    23057\n",
       "97    11826\n",
       "98    23894\n",
       "99    29694\n",
       "Length: 300, dtype: int32"
      ]
     },
     "execution_count": 64,
     "metadata": {},
     "output_type": "execute_result"
    }
   ],
   "source": [
    "bigcolumn=pd.concat([series_1,series_2,series_3])\n",
    "bigcolumn"
   ]
  },
  {
   "cell_type": "markdown",
   "id": "fc8ddbfa",
   "metadata": {},
   "source": [
    "Step 6. Ops it seems it is going only until index 99. Is it true?"
   ]
  },
  {
   "cell_type": "code",
   "execution_count": 66,
   "id": "81031357",
   "metadata": {},
   "outputs": [
    {
     "name": "stdout",
     "output_type": "stream",
     "text": [
      "The index goes only up to 99.\n"
     ]
    }
   ],
   "source": [
    "if bigcolumn.index.max() == 99:\n",
    "    print(\"The index goes only up to 99.\")\n",
    "else:\n",
    "    print(\"The index does not go only up to 99.\")"
   ]
  },
  {
   "cell_type": "markdown",
   "id": "f0f7c222",
   "metadata": {},
   "source": [
    "Step 7. Reindex the DataFrame so it goes from 0 to 299"
   ]
  },
  {
   "cell_type": "code",
   "execution_count": 69,
   "id": "623a9e65",
   "metadata": {},
   "outputs": [
    {
     "data": {
      "text/plain": [
       "0          3\n",
       "1          3\n",
       "2          1\n",
       "3          2\n",
       "4          1\n",
       "       ...  \n",
       "295    11998\n",
       "296    23057\n",
       "297    11826\n",
       "298    23894\n",
       "299    29694\n",
       "Length: 300, dtype: int32"
      ]
     },
     "execution_count": 69,
     "metadata": {},
     "output_type": "execute_result"
    }
   ],
   "source": [
    "bigcolumn.reset_index(drop=True)"
   ]
  },
  {
   "cell_type": "markdown",
   "id": "b37c9708",
   "metadata": {},
   "source": [
    "# Question 4"
   ]
  },
  {
   "cell_type": "markdown",
   "id": "37466571",
   "metadata": {},
   "source": [
    "Wind Statistics"
   ]
  },
  {
   "cell_type": "markdown",
   "id": "ce3c776c",
   "metadata": {},
   "source": [
    "Step 1. Import the necessary libraries"
   ]
  },
  {
   "cell_type": "code",
   "execution_count": 111,
   "id": "fc0ef50b",
   "metadata": {},
   "outputs": [],
   "source": [
    "import pandas as pd\n",
    "import numpy as np"
   ]
  },
  {
   "cell_type": "markdown",
   "id": "0d964478",
   "metadata": {},
   "source": [
    "Step 2. Import the dataset from the attached file wind.txt  \n"
   ]
  },
  {
   "cell_type": "code",
   "execution_count": 115,
   "id": "861d273d",
   "metadata": {},
   "outputs": [
    {
     "data": {
      "text/html": [
       "<div>\n",
       "<style scoped>\n",
       "    .dataframe tbody tr th:only-of-type {\n",
       "        vertical-align: middle;\n",
       "    }\n",
       "\n",
       "    .dataframe tbody tr th {\n",
       "        vertical-align: top;\n",
       "    }\n",
       "\n",
       "    .dataframe thead th {\n",
       "        text-align: right;\n",
       "    }\n",
       "</style>\n",
       "<table border=\"1\" class=\"dataframe\">\n",
       "  <thead>\n",
       "    <tr style=\"text-align: right;\">\n",
       "      <th></th>\n",
       "      <th>Yr</th>\n",
       "      <th>Mo</th>\n",
       "      <th>Dy</th>\n",
       "      <th>RPT</th>\n",
       "      <th>VAL</th>\n",
       "      <th>ROS</th>\n",
       "      <th>KIL</th>\n",
       "      <th>SHA</th>\n",
       "      <th>BIR</th>\n",
       "      <th>DUB</th>\n",
       "      <th>CLA</th>\n",
       "      <th>MUL</th>\n",
       "      <th>CLO</th>\n",
       "      <th>BEL</th>\n",
       "      <th>MAL</th>\n",
       "    </tr>\n",
       "  </thead>\n",
       "  <tbody>\n",
       "    <tr>\n",
       "      <th>0</th>\n",
       "      <td>61</td>\n",
       "      <td>1</td>\n",
       "      <td>1</td>\n",
       "      <td>15.04</td>\n",
       "      <td>14.96</td>\n",
       "      <td>13.17</td>\n",
       "      <td>9.29</td>\n",
       "      <td>NaN</td>\n",
       "      <td>9.87</td>\n",
       "      <td>13.67</td>\n",
       "      <td>10.25</td>\n",
       "      <td>10.83</td>\n",
       "      <td>12.58</td>\n",
       "      <td>18.50</td>\n",
       "      <td>15.04</td>\n",
       "    </tr>\n",
       "    <tr>\n",
       "      <th>1</th>\n",
       "      <td>61</td>\n",
       "      <td>1</td>\n",
       "      <td>2</td>\n",
       "      <td>14.71</td>\n",
       "      <td>NaN</td>\n",
       "      <td>10.83</td>\n",
       "      <td>6.50</td>\n",
       "      <td>12.62</td>\n",
       "      <td>7.67</td>\n",
       "      <td>11.50</td>\n",
       "      <td>10.04</td>\n",
       "      <td>9.79</td>\n",
       "      <td>9.67</td>\n",
       "      <td>17.54</td>\n",
       "      <td>13.83</td>\n",
       "    </tr>\n",
       "    <tr>\n",
       "      <th>2</th>\n",
       "      <td>61</td>\n",
       "      <td>1</td>\n",
       "      <td>3</td>\n",
       "      <td>18.50</td>\n",
       "      <td>16.88</td>\n",
       "      <td>12.33</td>\n",
       "      <td>10.13</td>\n",
       "      <td>11.17</td>\n",
       "      <td>6.17</td>\n",
       "      <td>11.25</td>\n",
       "      <td>NaN</td>\n",
       "      <td>8.50</td>\n",
       "      <td>7.67</td>\n",
       "      <td>12.75</td>\n",
       "      <td>12.71</td>\n",
       "    </tr>\n",
       "    <tr>\n",
       "      <th>3</th>\n",
       "      <td>61</td>\n",
       "      <td>1</td>\n",
       "      <td>4</td>\n",
       "      <td>10.58</td>\n",
       "      <td>6.63</td>\n",
       "      <td>11.75</td>\n",
       "      <td>4.58</td>\n",
       "      <td>4.54</td>\n",
       "      <td>2.88</td>\n",
       "      <td>8.63</td>\n",
       "      <td>1.79</td>\n",
       "      <td>5.83</td>\n",
       "      <td>5.88</td>\n",
       "      <td>5.46</td>\n",
       "      <td>10.88</td>\n",
       "    </tr>\n",
       "    <tr>\n",
       "      <th>4</th>\n",
       "      <td>61</td>\n",
       "      <td>1</td>\n",
       "      <td>5</td>\n",
       "      <td>13.33</td>\n",
       "      <td>13.25</td>\n",
       "      <td>11.42</td>\n",
       "      <td>6.17</td>\n",
       "      <td>10.71</td>\n",
       "      <td>8.21</td>\n",
       "      <td>11.92</td>\n",
       "      <td>6.54</td>\n",
       "      <td>10.92</td>\n",
       "      <td>10.34</td>\n",
       "      <td>12.92</td>\n",
       "      <td>11.83</td>\n",
       "    </tr>\n",
       "    <tr>\n",
       "      <th>...</th>\n",
       "      <td>...</td>\n",
       "      <td>...</td>\n",
       "      <td>...</td>\n",
       "      <td>...</td>\n",
       "      <td>...</td>\n",
       "      <td>...</td>\n",
       "      <td>...</td>\n",
       "      <td>...</td>\n",
       "      <td>...</td>\n",
       "      <td>...</td>\n",
       "      <td>...</td>\n",
       "      <td>...</td>\n",
       "      <td>...</td>\n",
       "      <td>...</td>\n",
       "      <td>...</td>\n",
       "    </tr>\n",
       "    <tr>\n",
       "      <th>6569</th>\n",
       "      <td>78</td>\n",
       "      <td>12</td>\n",
       "      <td>27</td>\n",
       "      <td>17.58</td>\n",
       "      <td>16.96</td>\n",
       "      <td>17.62</td>\n",
       "      <td>8.08</td>\n",
       "      <td>13.21</td>\n",
       "      <td>11.67</td>\n",
       "      <td>14.46</td>\n",
       "      <td>15.59</td>\n",
       "      <td>14.04</td>\n",
       "      <td>14.00</td>\n",
       "      <td>17.21</td>\n",
       "      <td>40.08</td>\n",
       "    </tr>\n",
       "    <tr>\n",
       "      <th>6570</th>\n",
       "      <td>78</td>\n",
       "      <td>12</td>\n",
       "      <td>28</td>\n",
       "      <td>13.21</td>\n",
       "      <td>5.46</td>\n",
       "      <td>13.46</td>\n",
       "      <td>5.00</td>\n",
       "      <td>8.12</td>\n",
       "      <td>9.42</td>\n",
       "      <td>14.33</td>\n",
       "      <td>16.25</td>\n",
       "      <td>15.25</td>\n",
       "      <td>18.05</td>\n",
       "      <td>21.79</td>\n",
       "      <td>41.46</td>\n",
       "    </tr>\n",
       "    <tr>\n",
       "      <th>6571</th>\n",
       "      <td>78</td>\n",
       "      <td>12</td>\n",
       "      <td>29</td>\n",
       "      <td>14.00</td>\n",
       "      <td>10.29</td>\n",
       "      <td>14.42</td>\n",
       "      <td>8.71</td>\n",
       "      <td>9.71</td>\n",
       "      <td>10.54</td>\n",
       "      <td>19.17</td>\n",
       "      <td>12.46</td>\n",
       "      <td>14.50</td>\n",
       "      <td>16.42</td>\n",
       "      <td>18.88</td>\n",
       "      <td>29.58</td>\n",
       "    </tr>\n",
       "    <tr>\n",
       "      <th>6572</th>\n",
       "      <td>78</td>\n",
       "      <td>12</td>\n",
       "      <td>30</td>\n",
       "      <td>18.50</td>\n",
       "      <td>14.04</td>\n",
       "      <td>21.29</td>\n",
       "      <td>9.13</td>\n",
       "      <td>12.75</td>\n",
       "      <td>9.71</td>\n",
       "      <td>18.08</td>\n",
       "      <td>12.87</td>\n",
       "      <td>12.46</td>\n",
       "      <td>12.12</td>\n",
       "      <td>14.67</td>\n",
       "      <td>28.79</td>\n",
       "    </tr>\n",
       "    <tr>\n",
       "      <th>6573</th>\n",
       "      <td>78</td>\n",
       "      <td>12</td>\n",
       "      <td>31</td>\n",
       "      <td>20.33</td>\n",
       "      <td>17.41</td>\n",
       "      <td>27.29</td>\n",
       "      <td>9.59</td>\n",
       "      <td>12.08</td>\n",
       "      <td>10.13</td>\n",
       "      <td>19.25</td>\n",
       "      <td>11.63</td>\n",
       "      <td>11.58</td>\n",
       "      <td>11.38</td>\n",
       "      <td>12.08</td>\n",
       "      <td>22.08</td>\n",
       "    </tr>\n",
       "  </tbody>\n",
       "</table>\n",
       "<p>6574 rows × 15 columns</p>\n",
       "</div>"
      ],
      "text/plain": [
       "      Yr  Mo  Dy    RPT    VAL    ROS    KIL    SHA    BIR    DUB    CLA  \\\n",
       "0     61   1   1  15.04  14.96  13.17   9.29    NaN   9.87  13.67  10.25   \n",
       "1     61   1   2  14.71    NaN  10.83   6.50  12.62   7.67  11.50  10.04   \n",
       "2     61   1   3  18.50  16.88  12.33  10.13  11.17   6.17  11.25    NaN   \n",
       "3     61   1   4  10.58   6.63  11.75   4.58   4.54   2.88   8.63   1.79   \n",
       "4     61   1   5  13.33  13.25  11.42   6.17  10.71   8.21  11.92   6.54   \n",
       "...   ..  ..  ..    ...    ...    ...    ...    ...    ...    ...    ...   \n",
       "6569  78  12  27  17.58  16.96  17.62   8.08  13.21  11.67  14.46  15.59   \n",
       "6570  78  12  28  13.21   5.46  13.46   5.00   8.12   9.42  14.33  16.25   \n",
       "6571  78  12  29  14.00  10.29  14.42   8.71   9.71  10.54  19.17  12.46   \n",
       "6572  78  12  30  18.50  14.04  21.29   9.13  12.75   9.71  18.08  12.87   \n",
       "6573  78  12  31  20.33  17.41  27.29   9.59  12.08  10.13  19.25  11.63   \n",
       "\n",
       "        MUL    CLO    BEL    MAL  \n",
       "0     10.83  12.58  18.50  15.04  \n",
       "1      9.79   9.67  17.54  13.83  \n",
       "2      8.50   7.67  12.75  12.71  \n",
       "3      5.83   5.88   5.46  10.88  \n",
       "4     10.92  10.34  12.92  11.83  \n",
       "...     ...    ...    ...    ...  \n",
       "6569  14.04  14.00  17.21  40.08  \n",
       "6570  15.25  18.05  21.79  41.46  \n",
       "6571  14.50  16.42  18.88  29.58  \n",
       "6572  12.46  12.12  14.67  28.79  \n",
       "6573  11.58  11.38  12.08  22.08  \n",
       "\n",
       "[6574 rows x 15 columns]"
      ]
     },
     "execution_count": 115,
     "metadata": {},
     "output_type": "execute_result"
    }
   ],
   "source": [
    "data = pd.read_csv(\"wind.csv\")\n",
    "data"
   ]
  },
  {
   "cell_type": "markdown",
   "id": "3abf5291",
   "metadata": {},
   "source": [
    "Step 3. Assign it to a variable called data and replace the first 3 columns by a proper datetime index."
   ]
  },
  {
   "cell_type": "code",
   "execution_count": 116,
   "id": "bc9e4cb2",
   "metadata": {},
   "outputs": [],
   "source": [
    "data[\"Datetime\"] = pd.to_datetime(data[[\"Yr\",\"Mo\",\"Dy\"]].astype(str).agg('-'.join, axis=1))\n",
    "data=data.drop(columns=[\"Yr\",\"Mo\",\"Dy\"])"
   ]
  },
  {
   "cell_type": "code",
   "execution_count": 117,
   "id": "643a3ee7",
   "metadata": {},
   "outputs": [
    {
     "data": {
      "text/plain": [
       "0      2061-01-01\n",
       "1      2061-01-02\n",
       "2      2061-01-03\n",
       "3      2061-01-04\n",
       "4      2061-01-05\n",
       "          ...    \n",
       "6569   1978-12-27\n",
       "6570   1978-12-28\n",
       "6571   1978-12-29\n",
       "6572   1978-12-30\n",
       "6573   1978-12-31\n",
       "Name: Datetime, Length: 6574, dtype: datetime64[ns]"
      ]
     },
     "execution_count": 117,
     "metadata": {},
     "output_type": "execute_result"
    }
   ],
   "source": [
    "data[\"Datetime\"]"
   ]
  },
  {
   "cell_type": "markdown",
   "id": "9c8f37d2",
   "metadata": {},
   "source": [
    "Step 4. Year 2061? Do we really have data from this year? Create a function to fix it \n",
    "and apply it."
   ]
  },
  {
   "cell_type": "code",
   "execution_count": 119,
   "id": "8a2d4f24",
   "metadata": {},
   "outputs": [],
   "source": [
    "data[\"str\"]=data[\"Datetime\"].astype(str).str.slice(0,4)\n",
    "data[\"str\"]=data[\"str\"].astype(int)\n",
    "data[\"str\"]=data[\"str\"].apply(lambda x: x-100 if x > 2021 else x)\n",
    "\n",
    "data[\"DateTime\"]=data[\"str\"].astype(str) + data[\"Datetime\"].astype(str).str.slice(4,10) \n",
    "data.drop ([\"Datetime\",\"str\"],axis=1,inplace=True)"
   ]
  },
  {
   "cell_type": "markdown",
   "id": "c4e11498",
   "metadata": {},
   "source": [
    "Step 5. Set the right dates as the index. Pay attention at the data type, it should be \n",
    "datetime64[ns]."
   ]
  },
  {
   "cell_type": "code",
   "execution_count": 120,
   "id": "cc5255d2",
   "metadata": {},
   "outputs": [
    {
     "data": {
      "text/plain": [
       "0      1961-01-01\n",
       "1      1961-01-02\n",
       "2      1961-01-03\n",
       "3      1961-01-04\n",
       "4      1961-01-05\n",
       "          ...    \n",
       "6569   1978-12-27\n",
       "6570   1978-12-28\n",
       "6571   1978-12-29\n",
       "6572   1978-12-30\n",
       "6573   1978-12-31\n",
       "Name: DateTime, Length: 6574, dtype: datetime64[ns]"
      ]
     },
     "execution_count": 120,
     "metadata": {},
     "output_type": "execute_result"
    }
   ],
   "source": [
    "data[\"DateTime\"].astype(\"datetime64[ns]\")"
   ]
  },
  {
   "cell_type": "code",
   "execution_count": 121,
   "id": "0bb2de8a",
   "metadata": {},
   "outputs": [],
   "source": [
    "data.set_index(\"DateTime\",inplace=True)"
   ]
  },
  {
   "cell_type": "markdown",
   "id": "00d7a45f",
   "metadata": {},
   "source": [
    "Step 6. Compute how many values are missing for each location over the entire \n",
    "record.They should be ignored in all calculations below.\n"
   ]
  },
  {
   "cell_type": "code",
   "execution_count": 122,
   "id": "6a8c4f3d",
   "metadata": {},
   "outputs": [
    {
     "data": {
      "text/plain": [
       "31"
      ]
     },
     "execution_count": 122,
     "metadata": {},
     "output_type": "execute_result"
    }
   ],
   "source": [
    "data.isnull().sum().sum()"
   ]
  },
  {
   "cell_type": "markdown",
   "id": "a49c4401",
   "metadata": {},
   "source": [
    "Step 7. Compute how many non-missing values there are in total."
   ]
  },
  {
   "cell_type": "code",
   "execution_count": 123,
   "id": "22f8af4a",
   "metadata": {},
   "outputs": [
    {
     "data": {
      "text/plain": [
       "78857"
      ]
     },
     "execution_count": 123,
     "metadata": {},
     "output_type": "execute_result"
    }
   ],
   "source": [
    "data.notnull().sum().sum()"
   ]
  },
  {
   "cell_type": "markdown",
   "id": "9c3eb8e3",
   "metadata": {},
   "source": [
    "Step 8. Calculate the mean windspeeds of the windspeeds over all the locations and all the times.A single number for the entire dataset."
   ]
  },
  {
   "cell_type": "code",
   "execution_count": 124,
   "id": "706ad9d3",
   "metadata": {},
   "outputs": [
    {
     "data": {
      "text/plain": [
       "10.227982360836924"
      ]
     },
     "execution_count": 124,
     "metadata": {},
     "output_type": "execute_result"
    }
   ],
   "source": [
    "data.mean().mean()"
   ]
  },
  {
   "cell_type": "markdown",
   "id": "98462b8a",
   "metadata": {},
   "source": [
    "Step 9. Create a DataFrame called loc_stats and calculate the min, max and mean windspeeds and standard deviations of the windspeeds at each location over all the days.A different set of numbers for each location."
   ]
  },
  {
   "cell_type": "code",
   "execution_count": 125,
   "id": "4007b218",
   "metadata": {},
   "outputs": [
    {
     "data": {
      "text/html": [
       "<div>\n",
       "<style scoped>\n",
       "    .dataframe tbody tr th:only-of-type {\n",
       "        vertical-align: middle;\n",
       "    }\n",
       "\n",
       "    .dataframe tbody tr th {\n",
       "        vertical-align: top;\n",
       "    }\n",
       "\n",
       "    .dataframe thead th {\n",
       "        text-align: right;\n",
       "    }\n",
       "</style>\n",
       "<table border=\"1\" class=\"dataframe\">\n",
       "  <thead>\n",
       "    <tr style=\"text-align: right;\">\n",
       "      <th></th>\n",
       "      <th>RPT</th>\n",
       "      <th>VAL</th>\n",
       "      <th>ROS</th>\n",
       "      <th>KIL</th>\n",
       "      <th>SHA</th>\n",
       "      <th>BIR</th>\n",
       "      <th>DUB</th>\n",
       "      <th>CLA</th>\n",
       "      <th>MUL</th>\n",
       "      <th>CLO</th>\n",
       "      <th>BEL</th>\n",
       "      <th>MAL</th>\n",
       "    </tr>\n",
       "  </thead>\n",
       "  <tbody>\n",
       "    <tr>\n",
       "      <th>0</th>\n",
       "      <td>0.670000</td>\n",
       "      <td>0.210000</td>\n",
       "      <td>1.500000</td>\n",
       "      <td>0.000000</td>\n",
       "      <td>0.130000</td>\n",
       "      <td>0.000000</td>\n",
       "      <td>0.000000</td>\n",
       "      <td>0.000000</td>\n",
       "      <td>0.000000</td>\n",
       "      <td>0.040000</td>\n",
       "      <td>0.130000</td>\n",
       "      <td>0.670000</td>\n",
       "    </tr>\n",
       "    <tr>\n",
       "      <th>1</th>\n",
       "      <td>35.800000</td>\n",
       "      <td>33.370000</td>\n",
       "      <td>33.840000</td>\n",
       "      <td>28.460000</td>\n",
       "      <td>37.540000</td>\n",
       "      <td>26.160000</td>\n",
       "      <td>30.370000</td>\n",
       "      <td>31.080000</td>\n",
       "      <td>25.880000</td>\n",
       "      <td>28.210000</td>\n",
       "      <td>42.380000</td>\n",
       "      <td>42.540000</td>\n",
       "    </tr>\n",
       "    <tr>\n",
       "      <th>2</th>\n",
       "      <td>12.362987</td>\n",
       "      <td>10.644314</td>\n",
       "      <td>11.660526</td>\n",
       "      <td>6.306468</td>\n",
       "      <td>10.455834</td>\n",
       "      <td>7.092254</td>\n",
       "      <td>9.797343</td>\n",
       "      <td>8.495053</td>\n",
       "      <td>8.493590</td>\n",
       "      <td>8.707332</td>\n",
       "      <td>13.121007</td>\n",
       "      <td>15.599079</td>\n",
       "    </tr>\n",
       "    <tr>\n",
       "      <th>3</th>\n",
       "      <td>5.618413</td>\n",
       "      <td>5.267356</td>\n",
       "      <td>5.008450</td>\n",
       "      <td>3.605811</td>\n",
       "      <td>4.936125</td>\n",
       "      <td>3.968683</td>\n",
       "      <td>4.977555</td>\n",
       "      <td>4.499449</td>\n",
       "      <td>4.166872</td>\n",
       "      <td>4.503954</td>\n",
       "      <td>5.835037</td>\n",
       "      <td>6.699794</td>\n",
       "    </tr>\n",
       "  </tbody>\n",
       "</table>\n",
       "</div>"
      ],
      "text/plain": [
       "         RPT        VAL        ROS        KIL        SHA        BIR  \\\n",
       "0   0.670000   0.210000   1.500000   0.000000   0.130000   0.000000   \n",
       "1  35.800000  33.370000  33.840000  28.460000  37.540000  26.160000   \n",
       "2  12.362987  10.644314  11.660526   6.306468  10.455834   7.092254   \n",
       "3   5.618413   5.267356   5.008450   3.605811   4.936125   3.968683   \n",
       "\n",
       "         DUB        CLA        MUL        CLO        BEL        MAL  \n",
       "0   0.000000   0.000000   0.000000   0.040000   0.130000   0.670000  \n",
       "1  30.370000  31.080000  25.880000  28.210000  42.380000  42.540000  \n",
       "2   9.797343   8.495053   8.493590   8.707332  13.121007  15.599079  \n",
       "3   4.977555   4.499449   4.166872   4.503954   5.835037   6.699794  "
      ]
     },
     "execution_count": 125,
     "metadata": {},
     "output_type": "execute_result"
    }
   ],
   "source": [
    "x=pd.Series(data.min())\n",
    "y=pd.Series(data.max())\n",
    "z=pd.Series(data.mean())\n",
    "sd=pd.Series(data.std())\n",
    "\n",
    "l=pd.concat([x,y,z,sd],axis=1).transpose()\n",
    "loc_stats=pd.DataFrame(l)\n",
    "\n",
    "loc_stats"
   ]
  },
  {
   "cell_type": "markdown",
   "id": "af89107e",
   "metadata": {},
   "source": [
    "Step 10. Create a DataFrame called day_stats and calculate the min, max and mean windspeed and standard deviations of the windspeeds across all the locations at each day.A different set of numbers for each day"
   ]
  },
  {
   "cell_type": "code",
   "execution_count": 126,
   "id": "05d1e6f8",
   "metadata": {},
   "outputs": [
    {
     "data": {
      "text/html": [
       "<div>\n",
       "<style scoped>\n",
       "    .dataframe tbody tr th:only-of-type {\n",
       "        vertical-align: middle;\n",
       "    }\n",
       "\n",
       "    .dataframe tbody tr th {\n",
       "        vertical-align: top;\n",
       "    }\n",
       "\n",
       "    .dataframe thead th {\n",
       "        text-align: right;\n",
       "    }\n",
       "</style>\n",
       "<table border=\"1\" class=\"dataframe\">\n",
       "  <thead>\n",
       "    <tr style=\"text-align: right;\">\n",
       "      <th></th>\n",
       "      <th>mean</th>\n",
       "      <th>max</th>\n",
       "      <th>min</th>\n",
       "      <th>std dev</th>\n",
       "    </tr>\n",
       "    <tr>\n",
       "      <th>DateTime</th>\n",
       "      <th></th>\n",
       "      <th></th>\n",
       "      <th></th>\n",
       "      <th></th>\n",
       "    </tr>\n",
       "  </thead>\n",
       "  <tbody>\n",
       "    <tr>\n",
       "      <th>1961-01-01</th>\n",
       "      <td>9.29</td>\n",
       "      <td>18.50</td>\n",
       "      <td>13.018182</td>\n",
       "      <td>2.808875</td>\n",
       "    </tr>\n",
       "    <tr>\n",
       "      <th>1961-01-02</th>\n",
       "      <td>6.50</td>\n",
       "      <td>17.54</td>\n",
       "      <td>11.336364</td>\n",
       "      <td>3.188994</td>\n",
       "    </tr>\n",
       "    <tr>\n",
       "      <th>1961-01-03</th>\n",
       "      <td>6.17</td>\n",
       "      <td>18.50</td>\n",
       "      <td>11.641818</td>\n",
       "      <td>3.681912</td>\n",
       "    </tr>\n",
       "    <tr>\n",
       "      <th>1961-01-04</th>\n",
       "      <td>1.79</td>\n",
       "      <td>11.75</td>\n",
       "      <td>6.619167</td>\n",
       "      <td>3.198126</td>\n",
       "    </tr>\n",
       "    <tr>\n",
       "      <th>1961-01-05</th>\n",
       "      <td>6.17</td>\n",
       "      <td>13.33</td>\n",
       "      <td>10.630000</td>\n",
       "      <td>2.445356</td>\n",
       "    </tr>\n",
       "    <tr>\n",
       "      <th>...</th>\n",
       "      <td>...</td>\n",
       "      <td>...</td>\n",
       "      <td>...</td>\n",
       "      <td>...</td>\n",
       "    </tr>\n",
       "    <tr>\n",
       "      <th>1978-12-27</th>\n",
       "      <td>8.08</td>\n",
       "      <td>40.08</td>\n",
       "      <td>16.708333</td>\n",
       "      <td>7.868076</td>\n",
       "    </tr>\n",
       "    <tr>\n",
       "      <th>1978-12-28</th>\n",
       "      <td>5.00</td>\n",
       "      <td>41.46</td>\n",
       "      <td>15.150000</td>\n",
       "      <td>9.687857</td>\n",
       "    </tr>\n",
       "    <tr>\n",
       "      <th>1978-12-29</th>\n",
       "      <td>8.71</td>\n",
       "      <td>29.58</td>\n",
       "      <td>14.890000</td>\n",
       "      <td>5.756836</td>\n",
       "    </tr>\n",
       "    <tr>\n",
       "      <th>1978-12-30</th>\n",
       "      <td>9.13</td>\n",
       "      <td>28.79</td>\n",
       "      <td>15.367500</td>\n",
       "      <td>5.540437</td>\n",
       "    </tr>\n",
       "    <tr>\n",
       "      <th>1978-12-31</th>\n",
       "      <td>9.59</td>\n",
       "      <td>27.29</td>\n",
       "      <td>15.402500</td>\n",
       "      <td>5.702483</td>\n",
       "    </tr>\n",
       "  </tbody>\n",
       "</table>\n",
       "<p>6574 rows × 4 columns</p>\n",
       "</div>"
      ],
      "text/plain": [
       "            mean    max        min   std dev\n",
       "DateTime                                    \n",
       "1961-01-01  9.29  18.50  13.018182  2.808875\n",
       "1961-01-02  6.50  17.54  11.336364  3.188994\n",
       "1961-01-03  6.17  18.50  11.641818  3.681912\n",
       "1961-01-04  1.79  11.75   6.619167  3.198126\n",
       "1961-01-05  6.17  13.33  10.630000  2.445356\n",
       "...          ...    ...        ...       ...\n",
       "1978-12-27  8.08  40.08  16.708333  7.868076\n",
       "1978-12-28  5.00  41.46  15.150000  9.687857\n",
       "1978-12-29  8.71  29.58  14.890000  5.756836\n",
       "1978-12-30  9.13  28.79  15.367500  5.540437\n",
       "1978-12-31  9.59  27.29  15.402500  5.702483\n",
       "\n",
       "[6574 rows x 4 columns]"
      ]
     },
     "execution_count": 126,
     "metadata": {},
     "output_type": "execute_result"
    }
   ],
   "source": [
    "x=pd.Series(data.min(axis=1),name=\"mean\")\n",
    "y=pd.Series(data.max(axis=1),name=\"max\")\n",
    "z=pd.Series(data.mean(axis=1),name=\"min\")\n",
    "sd=pd.Series(data.std(axis=1),name=\"std dev\")\n",
    "\n",
    "df=pd.merge(x,y,left_index=True,right_index=True)\n",
    "df1=pd.merge(z,sd,left_index=True,right_index=True)\n",
    "day_stats=df.join(df1)\n",
    "day_stats"
   ]
  },
  {
   "cell_type": "markdown",
   "id": "f1e269c4",
   "metadata": {},
   "source": [
    "Step 11. Find the average windspeed in January for each location. Treat January 1961 and January 1962 both as January."
   ]
  },
  {
   "cell_type": "code",
   "execution_count": 127,
   "id": "2927de95",
   "metadata": {},
   "outputs": [
    {
     "data": {
      "text/plain": [
       "RPT    14.847325\n",
       "VAL    12.914560\n",
       "ROS    13.299624\n",
       "KIL     7.199498\n",
       "SHA    11.667734\n",
       "BIR     8.054839\n",
       "DUB    11.819355\n",
       "CLA     9.512047\n",
       "MUL     9.543208\n",
       "CLO    10.053566\n",
       "BEL    14.550520\n",
       "MAL    18.028763\n",
       "dtype: float64"
      ]
     },
     "execution_count": 127,
     "metadata": {},
     "output_type": "execute_result"
    }
   ],
   "source": [
    "d=data.reset_index()\n",
    "d[\"DateTime\"]=d[\"DateTime\"].apply(pd.to_datetime)\n",
    "d.set_index(\"DateTime\",inplace=True)\n",
    "jan=d[d.index.month == 1]\n",
    "jan.mean()"
   ]
  },
  {
   "cell_type": "markdown",
   "id": "7a1b82d0",
   "metadata": {},
   "source": [
    "Step 12. Downsample the record to a yearly frequency for each location."
   ]
  },
  {
   "cell_type": "code",
   "execution_count": 128,
   "id": "d014599e",
   "metadata": {},
   "outputs": [
    {
     "name": "stdout",
     "output_type": "stream",
     "text": [
      "                  RPT        VAL        ROS       KIL        SHA       BIR  \\\n",
      "DateTime                                                                     \n",
      "1961-12-31  12.299583  10.351796  11.362369  6.958227  10.881763  7.729726   \n",
      "1962-12-31  12.246923  10.110438  11.732712  6.960440  10.657918  7.393068   \n",
      "1963-12-31  12.813452  10.836986  12.541151  7.330055  11.724110  8.434712   \n",
      "1964-12-31  12.363661  10.920164  12.104372  6.787787  11.454481  7.570874   \n",
      "1965-12-31  12.451370  11.075534  11.848767  6.858466  11.024795  7.478110   \n",
      "1966-12-31  13.461973  11.557205  12.020630  7.345726  11.805041  7.793671   \n",
      "1967-12-31  12.737151  10.990986  11.739397  7.143425  11.630740  7.368164   \n",
      "1968-12-31  11.835628  10.468197  11.409754  6.477678  10.760765  6.067322   \n",
      "1969-12-31  11.166356   9.723699  10.902000  5.767973   9.873918  6.189973   \n",
      "1970-12-31  12.600329  10.726932  11.730247  6.217178  10.567370  7.609452   \n",
      "1971-12-31  11.273123   9.095178  11.088329  5.241507   9.440329  6.097151   \n",
      "1972-12-31  12.463962  10.561311  12.058333  5.929699   9.430410  6.358825   \n",
      "1973-12-31  11.828466  10.680493  10.680493  5.547863   9.640877  6.548740   \n",
      "1974-12-31  13.643096  11.811781  12.336356  6.427041  11.110986  6.809781   \n",
      "1975-12-31  12.008575  10.293836  11.564712  5.269096   9.190082  5.668521   \n",
      "1976-12-31  11.737842  10.203115  10.761230  5.109426   8.846339  6.311038   \n",
      "1977-12-31  13.099616  11.144493  12.627836  6.073945  10.003836  8.586438   \n",
      "1978-12-31  12.504356  11.044274  11.380000  6.082356  10.167233  7.650658   \n",
      "\n",
      "                  DUB        CLA       MUL        CLO        BEL        MAL  \n",
      "DateTime                                                                     \n",
      "1961-12-31   9.733923   8.858788  8.647652   9.835577  13.502795  13.680773  \n",
      "1962-12-31  11.020712   8.793753  8.316822   9.676247  12.930685  14.323956  \n",
      "1963-12-31  11.075699  10.336548  8.903589  10.224438  13.638877  14.999014  \n",
      "1964-12-31  10.259153   9.467350  7.789016  10.207951  13.740546  14.910301  \n",
      "1965-12-31  10.618712   8.879918  7.907425   9.918082  12.964247  15.591644  \n",
      "1966-12-31  10.579808   8.835096  8.514438   9.768959  14.265836  16.307260  \n",
      "1967-12-31  10.652027   9.325616  8.645014   9.547425  14.774548  17.135945  \n",
      "1968-12-31   8.859180   8.255519  7.224945   7.832978  12.808634  15.017486  \n",
      "1969-12-31   8.564493   7.711397  7.924521   7.754384  12.621233  15.762904  \n",
      "1970-12-31   9.609890   8.334630  9.297616   8.289808  13.183644  16.456027  \n",
      "1971-12-31   8.385890   6.757315  7.915370   7.229753  12.208932  15.025233  \n",
      "1972-12-31   9.704508   7.680792  8.357295   7.515273  12.727377  15.028716  \n",
      "1973-12-31   8.482110   7.614274  8.245534   7.812411  12.169699  15.441096  \n",
      "1974-12-31  10.084603   9.896986  9.331753   8.736356  13.252959  16.947671  \n",
      "1975-12-31   8.562603   7.843836  8.797945   7.382822  12.631671  15.307863  \n",
      "1976-12-31   9.149126   7.146202  8.883716   7.883087  12.332377  15.471448  \n",
      "1977-12-31  11.523205   8.378384  9.098192   8.821616  13.459068  16.590849  \n",
      "1978-12-31   9.489342   8.800466  9.089753   8.301699  12.967397  16.771370  \n"
     ]
    }
   ],
   "source": [
    "print(d.resample('Y').mean())"
   ]
  },
  {
   "cell_type": "markdown",
   "id": "eaf2d0ad",
   "metadata": {},
   "source": [
    "Step 13. Downsample the record to a monthly frequency for each location."
   ]
  },
  {
   "cell_type": "code",
   "execution_count": 129,
   "id": "10f61be3",
   "metadata": {},
   "outputs": [
    {
     "name": "stdout",
     "output_type": "stream",
     "text": [
      "                  RPT        VAL        ROS       KIL        SHA        BIR  \\\n",
      "DateTime                                                                      \n",
      "1961-01-31  14.841333  11.988333  13.431613  7.736774  11.072759   8.588065   \n",
      "1961-02-28  16.269286  14.975357  14.441481  9.230741  13.852143  10.937500   \n",
      "1961-03-31  10.890000  11.296452  10.752903  7.284000  10.509355   8.866774   \n",
      "1961-04-30  10.722667   9.427667   9.998000  5.830667   8.435000   6.495000   \n",
      "1961-05-31   9.860968   8.850000  10.818065  5.905333   9.490323   6.574839   \n",
      "...               ...        ...        ...       ...        ...        ...   \n",
      "1978-08-31   9.645161   8.259355   9.032258  4.502903   7.368065   5.935161   \n",
      "1978-09-30  10.913667  10.895000  10.635000  5.725000  10.372000   9.278333   \n",
      "1978-10-31   9.897742   8.670968   9.295806  4.721290   8.525161   6.774194   \n",
      "1978-11-30  16.151667  14.802667  13.508000  7.317333  11.475000   8.743000   \n",
      "1978-12-31  16.175484  13.748065  15.635161  7.094839  11.398710   9.241613   \n",
      "\n",
      "                  DUB        CLA        MUL        CLO        BEL        MAL  \n",
      "DateTime                                                                      \n",
      "1961-01-31  11.184839   9.245333   9.085806  10.107419  13.880968  14.703226  \n",
      "1961-02-28  11.890714  11.846071  11.821429  12.714286  18.583214  15.411786  \n",
      "1961-03-31   9.644194   9.829677  10.294138  11.251935  16.410968  15.720000  \n",
      "1961-04-30   6.925333   7.094667   7.342333   7.237000  11.147333  10.278333  \n",
      "1961-05-31   7.604000   8.177097   8.039355   8.499355  11.900323  12.011613  \n",
      "...               ...        ...        ...        ...        ...        ...  \n",
      "1978-08-31   5.650323   5.417742   7.241290   5.536774  10.466774  12.054194  \n",
      "1978-09-30  10.790333   9.583000  10.069333   8.939000  15.680333  19.391333  \n",
      "1978-10-31   8.115484   7.337742   8.297742   8.243871  13.776774  17.150000  \n",
      "1978-11-30  11.492333   9.657333  10.701333  10.676000  17.404667  20.723000  \n",
      "1978-12-31  12.077419  10.194839  10.616774  11.028710  13.859677  21.371613  \n",
      "\n",
      "[216 rows x 12 columns]\n"
     ]
    }
   ],
   "source": [
    "print(d.resample('M').mean())"
   ]
  },
  {
   "cell_type": "markdown",
   "id": "9bf98aa0",
   "metadata": {},
   "source": [
    "Step 14. Downsample the record to a weekly frequency for each location."
   ]
  },
  {
   "cell_type": "code",
   "execution_count": 130,
   "id": "675dcf8b",
   "metadata": {},
   "outputs": [
    {
     "name": "stdout",
     "output_type": "stream",
     "text": [
      "                  RPT        VAL        ROS        KIL        SHA        BIR  \\\n",
      "DateTime                                                                       \n",
      "1961-01-01  15.040000  14.960000  13.170000   9.290000        NaN   9.870000   \n",
      "1961-01-08  13.541429  11.486667  10.487143   6.417143   9.474286   6.435714   \n",
      "1961-01-15  12.468571   8.967143  11.958571   4.630000   7.351429   5.072857   \n",
      "1961-01-22  13.204286   9.862857  12.982857   6.328571   8.966667   7.417143   \n",
      "1961-01-29  19.880000  16.141429  18.225714  12.720000  17.432857  14.828571   \n",
      "...               ...        ...        ...        ...        ...        ...   \n",
      "1978-12-03  14.934286  11.232857  13.941429   5.565714  10.215714   8.618571   \n",
      "1978-12-10  20.740000  19.190000  17.034286   9.777143  15.287143  12.774286   \n",
      "1978-12-17  16.758571  14.692857  14.987143   6.917143  11.397143   7.272857   \n",
      "1978-12-24  11.155714   8.008571  13.172857   4.004286   7.825714   6.290000   \n",
      "1978-12-31  14.951429  11.801429  16.035714   6.507143   9.660000   8.620000   \n",
      "\n",
      "                  DUB        CLA        MUL        CLO        BEL        MAL  \n",
      "DateTime                                                                      \n",
      "1961-01-01  13.670000  10.250000  10.830000  12.580000  18.500000  15.040000  \n",
      "1961-01-08  11.061429   6.616667   8.434286   8.497143  12.481429  13.238571  \n",
      "1961-01-15   7.535714   6.820000   5.712857   7.571429  11.125714  11.024286  \n",
      "1961-01-22   9.257143   7.875714   7.145714   8.124286   9.821429  11.434286  \n",
      "1961-01-29  15.528571  15.160000  14.480000  15.640000  20.930000  22.530000  \n",
      "...               ...        ...        ...        ...        ...        ...  \n",
      "1978-12-03   9.642857   7.685714   9.011429   9.547143  11.835714  18.728571  \n",
      "1978-12-10  14.437143  12.488571  13.870000  14.082857  18.517143  23.061429  \n",
      "1978-12-17  10.208571   7.967143   9.168571   8.565714  11.102857  15.562857  \n",
      "1978-12-24   7.798571   8.667143   7.151429   8.072857  11.845714  18.977143  \n",
      "1978-12-31  13.708571  10.477143  10.868571  11.471429  12.947143  26.844286  \n",
      "\n",
      "[940 rows x 12 columns]\n"
     ]
    }
   ],
   "source": [
    "print(d.resample('W').mean())"
   ]
  },
  {
   "cell_type": "markdown",
   "id": "ecdf5565",
   "metadata": {},
   "source": [
    "Step 15. Calculate the min, max and mean windspeeds and standard deviations of the windspeeds across all locations for each week (assume that the first week starts on January 2 1961) for the first 52 weeks."
   ]
  },
  {
   "cell_type": "code",
   "execution_count": 131,
   "id": "6f60531b",
   "metadata": {},
   "outputs": [
    {
     "data": {
      "text/html": [
       "<div>\n",
       "<style scoped>\n",
       "    .dataframe tbody tr th:only-of-type {\n",
       "        vertical-align: middle;\n",
       "    }\n",
       "\n",
       "    .dataframe tbody tr th {\n",
       "        vertical-align: top;\n",
       "    }\n",
       "\n",
       "    .dataframe thead th {\n",
       "        text-align: right;\n",
       "    }\n",
       "</style>\n",
       "<table border=\"1\" class=\"dataframe\">\n",
       "  <thead>\n",
       "    <tr style=\"text-align: right;\">\n",
       "      <th></th>\n",
       "      <th>RPT</th>\n",
       "      <th>VAL</th>\n",
       "      <th>ROS</th>\n",
       "      <th>KIL</th>\n",
       "      <th>SHA</th>\n",
       "      <th>BIR</th>\n",
       "      <th>DUB</th>\n",
       "      <th>CLA</th>\n",
       "      <th>MUL</th>\n",
       "      <th>CLO</th>\n",
       "      <th>BEL</th>\n",
       "      <th>MAL</th>\n",
       "    </tr>\n",
       "  </thead>\n",
       "  <tbody>\n",
       "    <tr>\n",
       "      <th>count</th>\n",
       "      <td>940.000000</td>\n",
       "      <td>940.000000</td>\n",
       "      <td>940.000000</td>\n",
       "      <td>940.000000</td>\n",
       "      <td>939.000000</td>\n",
       "      <td>940.000000</td>\n",
       "      <td>940.000000</td>\n",
       "      <td>940.000000</td>\n",
       "      <td>940.000000</td>\n",
       "      <td>940.000000</td>\n",
       "      <td>940.000000</td>\n",
       "      <td>940.000000</td>\n",
       "    </tr>\n",
       "    <tr>\n",
       "      <th>mean</th>\n",
       "      <td>12.365304</td>\n",
       "      <td>10.647725</td>\n",
       "      <td>11.661255</td>\n",
       "      <td>6.309334</td>\n",
       "      <td>10.455607</td>\n",
       "      <td>7.094787</td>\n",
       "      <td>9.801271</td>\n",
       "      <td>8.496123</td>\n",
       "      <td>8.496452</td>\n",
       "      <td>8.710639</td>\n",
       "      <td>13.125912</td>\n",
       "      <td>15.597171</td>\n",
       "    </tr>\n",
       "    <tr>\n",
       "      <th>std</th>\n",
       "      <td>3.466600</td>\n",
       "      <td>3.372501</td>\n",
       "      <td>2.840361</td>\n",
       "      <td>2.186432</td>\n",
       "      <td>3.146715</td>\n",
       "      <td>2.556633</td>\n",
       "      <td>3.308180</td>\n",
       "      <td>2.853029</td>\n",
       "      <td>2.638349</td>\n",
       "      <td>2.924546</td>\n",
       "      <td>3.757189</td>\n",
       "      <td>4.468526</td>\n",
       "    </tr>\n",
       "    <tr>\n",
       "      <th>min</th>\n",
       "      <td>3.874286</td>\n",
       "      <td>2.452857</td>\n",
       "      <td>4.901429</td>\n",
       "      <td>1.447143</td>\n",
       "      <td>2.775714</td>\n",
       "      <td>1.382857</td>\n",
       "      <td>2.471429</td>\n",
       "      <td>2.284286</td>\n",
       "      <td>2.262857</td>\n",
       "      <td>1.571429</td>\n",
       "      <td>3.661429</td>\n",
       "      <td>5.124286</td>\n",
       "    </tr>\n",
       "    <tr>\n",
       "      <th>25%</th>\n",
       "      <td>9.884286</td>\n",
       "      <td>8.277857</td>\n",
       "      <td>9.613929</td>\n",
       "      <td>4.742857</td>\n",
       "      <td>8.248571</td>\n",
       "      <td>5.211071</td>\n",
       "      <td>7.432500</td>\n",
       "      <td>6.470000</td>\n",
       "      <td>6.589286</td>\n",
       "      <td>6.530000</td>\n",
       "      <td>10.346429</td>\n",
       "      <td>12.269286</td>\n",
       "    </tr>\n",
       "    <tr>\n",
       "      <th>50%</th>\n",
       "      <td>12.291429</td>\n",
       "      <td>10.486429</td>\n",
       "      <td>11.490000</td>\n",
       "      <td>6.165714</td>\n",
       "      <td>10.254286</td>\n",
       "      <td>6.933571</td>\n",
       "      <td>9.603571</td>\n",
       "      <td>8.358571</td>\n",
       "      <td>8.394286</td>\n",
       "      <td>8.490000</td>\n",
       "      <td>12.846429</td>\n",
       "      <td>15.330714</td>\n",
       "    </tr>\n",
       "    <tr>\n",
       "      <th>75%</th>\n",
       "      <td>14.547143</td>\n",
       "      <td>12.757857</td>\n",
       "      <td>13.457143</td>\n",
       "      <td>7.584286</td>\n",
       "      <td>12.627143</td>\n",
       "      <td>8.842500</td>\n",
       "      <td>11.942143</td>\n",
       "      <td>10.457500</td>\n",
       "      <td>10.108571</td>\n",
       "      <td>10.699643</td>\n",
       "      <td>15.513571</td>\n",
       "      <td>18.683929</td>\n",
       "    </tr>\n",
       "    <tr>\n",
       "      <th>max</th>\n",
       "      <td>24.010000</td>\n",
       "      <td>23.715714</td>\n",
       "      <td>21.384286</td>\n",
       "      <td>14.517143</td>\n",
       "      <td>22.897143</td>\n",
       "      <td>16.010000</td>\n",
       "      <td>20.474286</td>\n",
       "      <td>17.861429</td>\n",
       "      <td>17.460000</td>\n",
       "      <td>17.932857</td>\n",
       "      <td>26.617143</td>\n",
       "      <td>30.374286</td>\n",
       "    </tr>\n",
       "  </tbody>\n",
       "</table>\n",
       "</div>"
      ],
      "text/plain": [
       "              RPT         VAL         ROS         KIL         SHA         BIR  \\\n",
       "count  940.000000  940.000000  940.000000  940.000000  939.000000  940.000000   \n",
       "mean    12.365304   10.647725   11.661255    6.309334   10.455607    7.094787   \n",
       "std      3.466600    3.372501    2.840361    2.186432    3.146715    2.556633   \n",
       "min      3.874286    2.452857    4.901429    1.447143    2.775714    1.382857   \n",
       "25%      9.884286    8.277857    9.613929    4.742857    8.248571    5.211071   \n",
       "50%     12.291429   10.486429   11.490000    6.165714   10.254286    6.933571   \n",
       "75%     14.547143   12.757857   13.457143    7.584286   12.627143    8.842500   \n",
       "max     24.010000   23.715714   21.384286   14.517143   22.897143   16.010000   \n",
       "\n",
       "              DUB         CLA         MUL         CLO         BEL         MAL  \n",
       "count  940.000000  940.000000  940.000000  940.000000  940.000000  940.000000  \n",
       "mean     9.801271    8.496123    8.496452    8.710639   13.125912   15.597171  \n",
       "std      3.308180    2.853029    2.638349    2.924546    3.757189    4.468526  \n",
       "min      2.471429    2.284286    2.262857    1.571429    3.661429    5.124286  \n",
       "25%      7.432500    6.470000    6.589286    6.530000   10.346429   12.269286  \n",
       "50%      9.603571    8.358571    8.394286    8.490000   12.846429   15.330714  \n",
       "75%     11.942143   10.457500   10.108571   10.699643   15.513571   18.683929  \n",
       "max     20.474286   17.861429   17.460000   17.932857   26.617143   30.374286  "
      ]
     },
     "execution_count": 131,
     "metadata": {},
     "output_type": "execute_result"
    }
   ],
   "source": [
    "y=d[d.index.year==1961]\n",
    "y1=d.resample('W').mean().apply(lambda x: x.describe())\n",
    "y1"
   ]
  },
  {
   "cell_type": "markdown",
   "id": "520e0c8c",
   "metadata": {},
   "source": [
    "# Question 5"
   ]
  },
  {
   "cell_type": "markdown",
   "id": "3e90f11d",
   "metadata": {},
   "source": [
    "Step 1. Import the necessary libraries"
   ]
  },
  {
   "cell_type": "code",
   "execution_count": 137,
   "id": "26448344",
   "metadata": {},
   "outputs": [],
   "source": [
    "import numpy as np\n",
    "import pandas as pd"
   ]
  },
  {
   "cell_type": "markdown",
   "id": "c4694bfa",
   "metadata": {},
   "source": [
    "Step 2. Import the dataset from this address.\n",
    "\n",
    "Step 3. Assign it to a variable called chipo."
   ]
  },
  {
   "cell_type": "code",
   "execution_count": 138,
   "id": "59eddc92",
   "metadata": {},
   "outputs": [],
   "source": [
    "chipotle=pd.read_csv(\"chipotle.csv\")"
   ]
  },
  {
   "cell_type": "markdown",
   "id": "b1d832de",
   "metadata": {},
   "source": [
    "Step 4. See the first 10 entries"
   ]
  },
  {
   "cell_type": "code",
   "execution_count": 140,
   "id": "a1092548",
   "metadata": {},
   "outputs": [
    {
     "data": {
      "text/html": [
       "<div>\n",
       "<style scoped>\n",
       "    .dataframe tbody tr th:only-of-type {\n",
       "        vertical-align: middle;\n",
       "    }\n",
       "\n",
       "    .dataframe tbody tr th {\n",
       "        vertical-align: top;\n",
       "    }\n",
       "\n",
       "    .dataframe thead th {\n",
       "        text-align: right;\n",
       "    }\n",
       "</style>\n",
       "<table border=\"1\" class=\"dataframe\">\n",
       "  <thead>\n",
       "    <tr style=\"text-align: right;\">\n",
       "      <th></th>\n",
       "      <th>order_id</th>\n",
       "      <th>quantity</th>\n",
       "      <th>item_name</th>\n",
       "      <th>choice_description</th>\n",
       "      <th>item_price</th>\n",
       "    </tr>\n",
       "  </thead>\n",
       "  <tbody>\n",
       "    <tr>\n",
       "      <th>0</th>\n",
       "      <td>1</td>\n",
       "      <td>1</td>\n",
       "      <td>Chips and Fresh Tomato Salsa</td>\n",
       "      <td>NaN</td>\n",
       "      <td>$2.39</td>\n",
       "    </tr>\n",
       "    <tr>\n",
       "      <th>1</th>\n",
       "      <td>1</td>\n",
       "      <td>1</td>\n",
       "      <td>Izze</td>\n",
       "      <td>[Clementine]</td>\n",
       "      <td>$3.39</td>\n",
       "    </tr>\n",
       "    <tr>\n",
       "      <th>2</th>\n",
       "      <td>1</td>\n",
       "      <td>1</td>\n",
       "      <td>Nantucket Nectar</td>\n",
       "      <td>[Apple]</td>\n",
       "      <td>$3.39</td>\n",
       "    </tr>\n",
       "    <tr>\n",
       "      <th>3</th>\n",
       "      <td>1</td>\n",
       "      <td>1</td>\n",
       "      <td>Chips and Tomatillo-Green Chili Salsa</td>\n",
       "      <td>NaN</td>\n",
       "      <td>$2.39</td>\n",
       "    </tr>\n",
       "    <tr>\n",
       "      <th>4</th>\n",
       "      <td>2</td>\n",
       "      <td>2</td>\n",
       "      <td>Chicken Bowl</td>\n",
       "      <td>[Tomatillo-Red Chili Salsa (Hot)</td>\n",
       "      <td>NaN</td>\n",
       "    </tr>\n",
       "    <tr>\n",
       "      <th>5</th>\n",
       "      <td>3</td>\n",
       "      <td>1</td>\n",
       "      <td>Chicken Bowl</td>\n",
       "      <td>[Fresh Tomato Salsa (Mild)</td>\n",
       "      <td>NaN</td>\n",
       "    </tr>\n",
       "    <tr>\n",
       "      <th>6</th>\n",
       "      <td>3</td>\n",
       "      <td>1</td>\n",
       "      <td>Side of Chips</td>\n",
       "      <td>NaN</td>\n",
       "      <td>$1.69</td>\n",
       "    </tr>\n",
       "    <tr>\n",
       "      <th>7</th>\n",
       "      <td>4</td>\n",
       "      <td>1</td>\n",
       "      <td>Steak Burrito</td>\n",
       "      <td>[Tomatillo Red Chili Salsa</td>\n",
       "      <td>NaN</td>\n",
       "    </tr>\n",
       "    <tr>\n",
       "      <th>8</th>\n",
       "      <td>4</td>\n",
       "      <td>1</td>\n",
       "      <td>Steak Soft Tacos</td>\n",
       "      <td>[Tomatillo Green Chili Salsa</td>\n",
       "      <td>NaN</td>\n",
       "    </tr>\n",
       "    <tr>\n",
       "      <th>9</th>\n",
       "      <td>5</td>\n",
       "      <td>1</td>\n",
       "      <td>Steak Burrito</td>\n",
       "      <td>[Fresh Tomato Salsa</td>\n",
       "      <td>NaN</td>\n",
       "    </tr>\n",
       "  </tbody>\n",
       "</table>\n",
       "</div>"
      ],
      "text/plain": [
       "   order_id  quantity                              item_name  \\\n",
       "0         1         1           Chips and Fresh Tomato Salsa   \n",
       "1         1         1                                   Izze   \n",
       "2         1         1                       Nantucket Nectar   \n",
       "3         1         1  Chips and Tomatillo-Green Chili Salsa   \n",
       "4         2         2                           Chicken Bowl   \n",
       "5         3         1                           Chicken Bowl   \n",
       "6         3         1                          Side of Chips   \n",
       "7         4         1                          Steak Burrito   \n",
       "8         4         1                       Steak Soft Tacos   \n",
       "9         5         1                          Steak Burrito   \n",
       "\n",
       "                 choice_description item_price  \n",
       "0                               NaN      $2.39  \n",
       "1                      [Clementine]      $3.39  \n",
       "2                           [Apple]      $3.39  \n",
       "3                               NaN      $2.39  \n",
       "4  [Tomatillo-Red Chili Salsa (Hot)        NaN  \n",
       "5        [Fresh Tomato Salsa (Mild)        NaN  \n",
       "6                               NaN      $1.69  \n",
       "7        [Tomatillo Red Chili Salsa        NaN  \n",
       "8      [Tomatillo Green Chili Salsa        NaN  \n",
       "9               [Fresh Tomato Salsa        NaN  "
      ]
     },
     "execution_count": 140,
     "metadata": {},
     "output_type": "execute_result"
    }
   ],
   "source": [
    "chipotle = chipotle.iloc[:, :5]\n",
    "chipotle.head(10)"
   ]
  },
  {
   "cell_type": "markdown",
   "id": "55de347d",
   "metadata": {},
   "source": [
    "Step 5. What is the number of observations in the dataset?"
   ]
  },
  {
   "cell_type": "code",
   "execution_count": 141,
   "id": "c0c2ad5c",
   "metadata": {},
   "outputs": [
    {
     "data": {
      "text/plain": [
       "4622"
      ]
     },
     "execution_count": 141,
     "metadata": {},
     "output_type": "execute_result"
    }
   ],
   "source": [
    "len(chipotle)"
   ]
  },
  {
   "cell_type": "markdown",
   "id": "8afc89ee",
   "metadata": {},
   "source": [
    "Step 6. What is the number of columns in the dataset?"
   ]
  },
  {
   "cell_type": "code",
   "execution_count": 142,
   "id": "52b21396",
   "metadata": {},
   "outputs": [
    {
     "data": {
      "text/plain": [
       "5"
      ]
     },
     "execution_count": 142,
     "metadata": {},
     "output_type": "execute_result"
    }
   ],
   "source": [
    "len(chipotle.columns)"
   ]
  },
  {
   "cell_type": "markdown",
   "id": "ba780ddf",
   "metadata": {},
   "source": [
    "Step 7. Print the name of all the columns."
   ]
  },
  {
   "cell_type": "code",
   "execution_count": 143,
   "id": "fa265c21",
   "metadata": {},
   "outputs": [
    {
     "data": {
      "text/plain": [
       "Index(['order_id', 'quantity', 'item_name', 'choice_description',\n",
       "       'item_price'],\n",
       "      dtype='object')"
      ]
     },
     "execution_count": 143,
     "metadata": {},
     "output_type": "execute_result"
    }
   ],
   "source": [
    "chipotle.columns"
   ]
  },
  {
   "cell_type": "markdown",
   "id": "d320a797",
   "metadata": {},
   "source": [
    "Step 8. How is the dataset indexed?"
   ]
  },
  {
   "cell_type": "code",
   "execution_count": 148,
   "id": "33462094",
   "metadata": {},
   "outputs": [
    {
     "data": {
      "text/plain": [
       "RangeIndex(start=0, stop=4622, step=1)"
      ]
     },
     "execution_count": 148,
     "metadata": {},
     "output_type": "execute_result"
    }
   ],
   "source": [
    "chipotle.index"
   ]
  },
  {
   "cell_type": "markdown",
   "id": "0e6b11a9",
   "metadata": {},
   "source": [
    "Step 9. Which was the most-ordered item?"
   ]
  },
  {
   "cell_type": "code",
   "execution_count": 149,
   "id": "4c523d51",
   "metadata": {},
   "outputs": [
    {
     "data": {
      "text/html": [
       "<div>\n",
       "<style scoped>\n",
       "    .dataframe tbody tr th:only-of-type {\n",
       "        vertical-align: middle;\n",
       "    }\n",
       "\n",
       "    .dataframe tbody tr th {\n",
       "        vertical-align: top;\n",
       "    }\n",
       "\n",
       "    .dataframe thead th {\n",
       "        text-align: right;\n",
       "    }\n",
       "</style>\n",
       "<table border=\"1\" class=\"dataframe\">\n",
       "  <thead>\n",
       "    <tr style=\"text-align: right;\">\n",
       "      <th></th>\n",
       "      <th>order_id</th>\n",
       "      <th>quantity</th>\n",
       "      <th>item_name</th>\n",
       "      <th>choice_description</th>\n",
       "      <th>item_price</th>\n",
       "    </tr>\n",
       "  </thead>\n",
       "  <tbody>\n",
       "    <tr>\n",
       "      <th>0</th>\n",
       "      <td>1</td>\n",
       "      <td>1</td>\n",
       "      <td>Chips and Fresh Tomato Salsa</td>\n",
       "      <td>NaN</td>\n",
       "      <td>$2.39</td>\n",
       "    </tr>\n",
       "    <tr>\n",
       "      <th>1</th>\n",
       "      <td>1</td>\n",
       "      <td>1</td>\n",
       "      <td>Izze</td>\n",
       "      <td>[Clementine]</td>\n",
       "      <td>$3.39</td>\n",
       "    </tr>\n",
       "    <tr>\n",
       "      <th>2</th>\n",
       "      <td>1</td>\n",
       "      <td>1</td>\n",
       "      <td>Nantucket Nectar</td>\n",
       "      <td>[Apple]</td>\n",
       "      <td>$3.39</td>\n",
       "    </tr>\n",
       "    <tr>\n",
       "      <th>3</th>\n",
       "      <td>1</td>\n",
       "      <td>1</td>\n",
       "      <td>Chips and Tomatillo-Green Chili Salsa</td>\n",
       "      <td>NaN</td>\n",
       "      <td>$2.39</td>\n",
       "    </tr>\n",
       "    <tr>\n",
       "      <th>4</th>\n",
       "      <td>2</td>\n",
       "      <td>2</td>\n",
       "      <td>Chicken Bowl</td>\n",
       "      <td>[Tomatillo-Red Chili Salsa (Hot)</td>\n",
       "      <td>NaN</td>\n",
       "    </tr>\n",
       "  </tbody>\n",
       "</table>\n",
       "</div>"
      ],
      "text/plain": [
       "   order_id  quantity                              item_name  \\\n",
       "0         1         1           Chips and Fresh Tomato Salsa   \n",
       "1         1         1                                   Izze   \n",
       "2         1         1                       Nantucket Nectar   \n",
       "3         1         1  Chips and Tomatillo-Green Chili Salsa   \n",
       "4         2         2                           Chicken Bowl   \n",
       "\n",
       "                 choice_description item_price  \n",
       "0                               NaN      $2.39  \n",
       "1                      [Clementine]      $3.39  \n",
       "2                           [Apple]      $3.39  \n",
       "3                               NaN      $2.39  \n",
       "4  [Tomatillo-Red Chili Salsa (Hot)        NaN  "
      ]
     },
     "execution_count": 149,
     "metadata": {},
     "output_type": "execute_result"
    }
   ],
   "source": [
    "chipotle.head()"
   ]
  },
  {
   "cell_type": "code",
   "execution_count": 150,
   "id": "fdadaa6c",
   "metadata": {},
   "outputs": [
    {
     "data": {
      "text/plain": [
       "Chicken Bowl    726\n",
       "Name: item_name, dtype: int64"
      ]
     },
     "execution_count": 150,
     "metadata": {},
     "output_type": "execute_result"
    }
   ],
   "source": [
    "chipotle.item_name.value_counts().head(1)"
   ]
  },
  {
   "cell_type": "markdown",
   "id": "459c3aba",
   "metadata": {},
   "source": [
    "Step 10. For the most-ordered item, how many items were ordered?"
   ]
  },
  {
   "cell_type": "code",
   "execution_count": 155,
   "id": "5a0d75d0",
   "metadata": {},
   "outputs": [
    {
     "data": {
      "text/plain": [
       "726"
      ]
     },
     "execution_count": 155,
     "metadata": {},
     "output_type": "execute_result"
    }
   ],
   "source": [
    "chipotle.item_name.value_counts()[0]"
   ]
  },
  {
   "cell_type": "markdown",
   "id": "aa30746a",
   "metadata": {},
   "source": [
    "Step 11. What was the most ordered item in the choice_description column?"
   ]
  },
  {
   "cell_type": "code",
   "execution_count": 156,
   "id": "120a10b0",
   "metadata": {},
   "outputs": [
    {
     "data": {
      "text/plain": [
       "[Fresh Tomato Salsa    1035\n",
       "Name: choice_description, dtype: int64"
      ]
     },
     "execution_count": 156,
     "metadata": {},
     "output_type": "execute_result"
    }
   ],
   "source": [
    "chipotle.choice_description.value_counts().head(1)"
   ]
  },
  {
   "cell_type": "markdown",
   "id": "56a80701",
   "metadata": {},
   "source": [
    "Step 12. How many items were orderd in total"
   ]
  },
  {
   "cell_type": "code",
   "execution_count": 158,
   "id": "5d3c491b",
   "metadata": {},
   "outputs": [
    {
     "data": {
      "text/plain": [
       "50"
      ]
     },
     "execution_count": 158,
     "metadata": {},
     "output_type": "execute_result"
    }
   ],
   "source": [
    "len(chipotle.item_name.unique())"
   ]
  },
  {
   "cell_type": "markdown",
   "id": "0b69ab28",
   "metadata": {},
   "source": [
    "Step 13. • Turn the item price into a float • Check the item price type • Create a lambda function and change the type of item price • Check the item price type "
   ]
  },
  {
   "cell_type": "code",
   "execution_count": 163,
   "id": "65ada161",
   "metadata": {},
   "outputs": [
    {
     "data": {
      "text/plain": [
       "0       2.39\n",
       "1       3.39\n",
       "2       3.39\n",
       "3       2.39\n",
       "4        NaN\n",
       "        ... \n",
       "4617     NaN\n",
       "4618     NaN\n",
       "4619     NaN\n",
       "4620     NaN\n",
       "4621     NaN\n",
       "Name: item_price, Length: 4622, dtype: float64"
      ]
     },
     "execution_count": 163,
     "metadata": {},
     "output_type": "execute_result"
    }
   ],
   "source": [
    "chipotle[\"item_price\"].astype(float)"
   ]
  },
  {
   "cell_type": "code",
   "execution_count": 164,
   "id": "c9389cd1",
   "metadata": {},
   "outputs": [
    {
     "data": {
      "text/plain": [
       "dtype('float64')"
      ]
     },
     "execution_count": 164,
     "metadata": {},
     "output_type": "execute_result"
    }
   ],
   "source": [
    "chipotle[\"item_price\"].dtype"
   ]
  },
  {
   "cell_type": "code",
   "execution_count": 165,
   "id": "e4968149",
   "metadata": {},
   "outputs": [
    {
     "data": {
      "text/plain": [
       "0       2.39\n",
       "1       3.39\n",
       "2       3.39\n",
       "3       2.39\n",
       "4        NaN\n",
       "        ... \n",
       "4617     NaN\n",
       "4618     NaN\n",
       "4619     NaN\n",
       "4620     NaN\n",
       "4621     NaN\n",
       "Name: item_price, Length: 4622, dtype: float64"
      ]
     },
     "execution_count": 165,
     "metadata": {},
     "output_type": "execute_result"
    }
   ],
   "source": [
    "chipotle[\"item_price\"].apply(lambda x : pd.to_numeric(x))"
   ]
  },
  {
   "cell_type": "markdown",
   "id": "9ed7d399",
   "metadata": {},
   "source": [
    "Step 14. How much was the revenue for the period in the dataset?"
   ]
  },
  {
   "cell_type": "code",
   "execution_count": 167,
   "id": "d85be126",
   "metadata": {},
   "outputs": [
    {
     "data": {
      "text/plain": [
       "7489.9800000000005"
      ]
     },
     "execution_count": 167,
     "metadata": {},
     "output_type": "execute_result"
    }
   ],
   "source": [
    "d=chipotle[\"item_price\"]*chipotle[\"quantity\"]\n",
    "d.sum()"
   ]
  },
  {
   "cell_type": "markdown",
   "id": "a341b728",
   "metadata": {},
   "source": [
    "Step 15. How many orders were made in the period?"
   ]
  },
  {
   "cell_type": "code",
   "execution_count": 168,
   "id": "22ba5257",
   "metadata": {},
   "outputs": [
    {
     "data": {
      "text/plain": [
       "1834"
      ]
     },
     "execution_count": 168,
     "metadata": {},
     "output_type": "execute_result"
    }
   ],
   "source": [
    "l=len(chipotle[\"order_id\"].unique())\n",
    "l"
   ]
  },
  {
   "cell_type": "markdown",
   "id": "91b3548a",
   "metadata": {},
   "source": [
    "Step 16. What is the average revenue amount per order?"
   ]
  },
  {
   "cell_type": "code",
   "execution_count": 169,
   "id": "96f8ca84",
   "metadata": {},
   "outputs": [
    {
     "data": {
      "text/plain": [
       "4.083958560523446"
      ]
     },
     "execution_count": 169,
     "metadata": {},
     "output_type": "execute_result"
    }
   ],
   "source": [
    "d.sum()/l"
   ]
  },
  {
   "cell_type": "markdown",
   "id": "81296589",
   "metadata": {},
   "source": [
    "Step 17. How many different items are sold?"
   ]
  },
  {
   "cell_type": "code",
   "execution_count": 170,
   "id": "e4feb216",
   "metadata": {},
   "outputs": [
    {
     "data": {
      "text/plain": [
       "50"
      ]
     },
     "execution_count": 170,
     "metadata": {},
     "output_type": "execute_result"
    }
   ],
   "source": [
    "len(chipotle[\"item_name\"].unique())"
   ]
  },
  {
   "cell_type": "markdown",
   "id": "0c3d07f4",
   "metadata": {},
   "source": [
    "# Question 6"
   ]
  },
  {
   "cell_type": "code",
   "execution_count": 1,
   "id": "4506eff7",
   "metadata": {},
   "outputs": [
    {
     "data": {
      "image/png": "[encoded data removed]",
      "text/plain": [
       "<Figure size 1000x600 with 1 Axes>"
      ]
     },
     "metadata": {},
     "output_type": "display_data"
    }
   ],
   "source": [
    "import pandas as pd\n",
    "import matplotlib.pyplot as plt\n",
    "\n",
    "# Read data from CSV\n",
    "data = pd.read_csv('us-marriages-divorces-1867-2014.csv') \n",
    "\n",
    "# Extract data from the DataFrame\n",
    "years = data['Year']\n",
    "marriages_per_1000 = data['Marriages_per_1000']\n",
    "divorces_per_1000 = data['Divorces_per_1000']\n",
    "\n",
    "plt.figure(figsize=(10, 6))\n",
    "plt.plot(years, marriages_per_1000, label='Marriages per 1000', color='blue')\n",
    "plt.plot(years, divorces_per_1000, label='Divorces per 1000', color='red')\n",
    "\n",
    "plt.xlabel('Year')\n",
    "plt.ylabel('Rate per 1000')\n",
    "plt.title('Marriages and Divorces per 1000 People in the U.S. (1867-2014)')\n",
    "plt.legend()\n",
    "\n",
    "plt.grid(True)\n",
    "plt.tight_layout()\n",
    "\n",
    "plt.show()\n"
   ]
  },
  {
   "cell_type": "markdown",
   "id": "ed55f55f",
   "metadata": {},
   "source": [
    "# Question 7"
   ]
  },
  {
   "cell_type": "code",
   "execution_count": 30,
   "id": "2dab093b",
   "metadata": {},
   "outputs": [
    {
     "data": {
      "image/png": "[encoded data removed]",
      "text/plain": [
       "<Figure size 640x480 with 1 Axes>"
      ]
     },
     "metadata": {},
     "output_type": "display_data"
    }
   ],
   "source": [
    "import matplotlib.pyplot as plt\n",
    "\n",
    "years = [1900, 1950, 2000]\n",
    "marriages_per_capita = [7.3, 11.0, 8.2]  # Example data (replace with actual data)\n",
    "divorces_per_capita = [0.6, 2.5, 4.7]    # Example data (replace with actual data)\n",
    "\n",
    "bar_width = 0.35\n",
    "index = range(len(years))\n",
    "\n",
    "plt.bar(index, marriages_per_capita, bar_width, label='Marriages per Capita', color='darkblue')\n",
    "plt.bar([i + bar_width for i in index], divorces_per_capita, bar_width, label='Divorces per Capita', color='red')\n",
    "\n",
    "plt.xlabel('Year')\n",
    "plt.ylabel('Rate per Capita')\n",
    "plt.title('Marriages and Divorces per Capita in the U.S. (1900, 1950, 2000)')\n",
    "plt.xticks([i + bar_width/2 for i in index], years)\n",
    "plt.legend()\n",
    "\n",
    "plt.tight_layout()\n",
    "\n",
    "plt.show()\n"
   ]
  },
  {
   "cell_type": "markdown",
   "id": "5a4ec982",
   "metadata": {},
   "source": [
    "# Question 8"
   ]
  },
  {
   "cell_type": "code",
   "execution_count": 4,
   "id": "8659c78b",
   "metadata": {},
   "outputs": [
    {
     "data": {
      "image/png": "[encoded data removed]",
      "text/plain": [
       "<Figure size 1000x800 with 1 Axes>"
      ]
     },
     "metadata": {},
     "output_type": "display_data"
    }
   ],
   "source": [
    "import pandas as pd\n",
    "import matplotlib.pyplot as plt\n",
    "\n",
    "# Read data from CSV\n",
    "data = pd.read_csv('actor_kill_counts.csv')\n",
    "\n",
    "# Extract data from the DataFrame\n",
    "actors = data['Actor']\n",
    "kill_counts = data['Count']\n",
    "\n",
    "plt.figure(figsize=(10, 8))\n",
    "plt.barh(actors, kill_counts, color='skyblue')\n",
    "plt.xlabel('Kill Count')\n",
    "plt.ylabel('Actor')\n",
    "plt.title('Deadliest Actors in Hollywood')\n",
    "plt.gca().invert_yaxis()  # Invert y-axis to have the highest count at the top\n",
    "\n",
    "# Label each bar with the corresponding kill count\n",
    "for i in range(len(actors)):\n",
    "    plt.text(kill_counts[i] + 5, i, str(kill_counts[i]), va='center', color='black')\n",
    "\n",
    "plt.tight_layout()\n",
    "\n",
    "plt.show()\n"
   ]
  },
  {
   "cell_type": "markdown",
   "id": "77db3463",
   "metadata": {},
   "source": [
    "# Question 9"
   ]
  },
  {
   "cell_type": "code",
   "execution_count": 26,
   "id": "693a02ee",
   "metadata": {},
   "outputs": [
    {
     "data": {
      "image/png": "[encoded data removed]",
      "text/plain": [
       "<Figure size 1200x1200 with 1 Axes>"
      ]
     },
     "metadata": {},
     "output_type": "display_data"
    }
   ],
   "source": [
    "import pandas as pd\n",
    "import matplotlib.pyplot as plt\n",
    "\n",
    "# Read data from CSV\n",
    "data = pd.read_csv('roman-emperor-reigns.csv')\n",
    "\n",
    "# Filter assassinated emperors\n",
    "assassinated_emperors = data[data['Cause_of_Death'] == 'Assassinated']\n",
    "\n",
    "# Create the pie chart\n",
    "plt.figure(figsize=(12, 12))\n",
    "assassinated_pie = plt.pie(\n",
    "    assassinated_emperors['Length_of_Reign'],\n",
    "    labels=assassinated_emperors['Emperor'],\n",
    "    autopct='%1.1f%%',\n",
    "    startangle=140\n",
    ")\n",
    "\n",
    "plt.title('Fraction of Roman Emperors Assassinated')\n",
    "\n",
    "# Equal aspect ratio ensures that pie is drawn as a circle\n",
    "plt.axis('equal')\n",
    "\n",
    "# Adjust the legend size using the bbox_to_anchor parameter\n",
    "plt.legend(bbox_to_anchor=(1, 1), loc='center left', labels=assassinated_emperors['Emperor'], fontsize='x-large')\n",
    "\n",
    "plt.show()\n"
   ]
  },
  {
   "cell_type": "markdown",
   "id": "f41811c7",
   "metadata": {},
   "source": [
    "# Question 10"
   ]
  },
  {
   "cell_type": "code",
   "execution_count": 27,
   "id": "30990de3",
   "metadata": {},
   "outputs": [
    {
     "data": {
      "image/png": "[encoded data removed]",
      "text/plain": [
       "<Figure size 1000x600 with 2 Axes>"
      ]
     },
     "metadata": {},
     "output_type": "display_data"
    }
   ],
   "source": [
    "import pandas as pd\n",
    "import matplotlib.pyplot as plt\n",
    "\n",
    "# Read data from CSV\n",
    "data = pd.read_csv('arcade-revenue-vs-cs-doctorates.csv')\n",
    "\n",
    "# Create a scatter plot\n",
    "plt.figure(figsize=(10, 6))\n",
    "scatter = plt.scatter(\n",
    "    data['Total Arcade Revenue (billions)'],\n",
    "    data['Computer Science Doctorates Awarded (US)'],\n",
    "    c=data['Year'],  # Use year for color\n",
    "    cmap='viridis',  # Choose a colormap\n",
    "    s=100  # Marker size\n",
    ")\n",
    "\n",
    "plt.title('Relationship between Arcade Revenue and CS PhDs (2000-2009)')\n",
    "plt.xlabel('Total Arcade Revenue (billions)')\n",
    "plt.ylabel('Computer Science Doctorates Awarded (US)')\n",
    "\n",
    "# Add a colorbar to indicate the years\n",
    "cbar = plt.colorbar(scatter)\n",
    "cbar.set_label('Year')\n",
    "\n",
    "plt.grid(True)\n",
    "plt.show()\n"
   ]
  },
  {
   "cell_type": "code",
   "execution_count": null,
   "id": "c1794d10",
   "metadata": {},
   "outputs": [],
   "source": []
  }
 ],
 "metadata": {
  "kernelspec": {
   "display_name": "Python 3 (ipykernel)",
   "language": "python",
   "name": "python3"
  },
  "language_info": {
   "codemirror_mode": {
    "name": "ipython",
    "version": 3
   },
   "file_extension": ".py",
   "mimetype": "text/x-python",
   "name": "python",
   "nbconvert_exporter": "python",
   "pygments_lexer": "ipython3",
   "version": "3.9.13"
  }
 },
 "nbformat": 4,
 "nbformat_minor": 5
}
